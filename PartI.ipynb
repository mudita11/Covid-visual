{
  "nbformat": 4,
  "nbformat_minor": 0,
  "metadata": {
    "colab": {
      "name": "PartI.ipynb",
      "provenance": [],
      "collapsed_sections": [],
      "authorship_tag": "ABX9TyP1kJXLCG57uiG86WIor2uL",
      "include_colab_link": true
    },
    "kernelspec": {
      "name": "python3",
      "display_name": "Python 3"
    },
    "language_info": {
      "name": "python"
    }
  },
  "cells": [
    {
      "cell_type": "markdown",
      "metadata": {
        "id": "view-in-github",
        "colab_type": "text"
      },
      "source": [
        "<a href=\"https://colab.research.google.com/github/mudita11/Covid-visual/blob/main/PartI.ipynb\" target=\"_parent\"><img src=\"https://colab.research.google.com/assets/colab-badge.svg\" alt=\"Open In Colab\"/></a>"
      ]
    },
    {
      "cell_type": "code",
      "metadata": {
        "id": "L0oZGhRpYs7m",
        "colab": {
          "base_uri": "https://localhost:8080/"
        },
        "outputId": "3bd23f3a-7729-49e2-9568-df3eff66d4ba"
      },
      "source": [
        "import psycopg2\n",
        "import pandas as pd\n",
        "import datetime\n",
        "import seaborn as sns"
      ],
      "execution_count": 1,
      "outputs": [
        {
          "output_type": "stream",
          "name": "stderr",
          "text": [
            "/usr/local/lib/python3.7/dist-packages/psycopg2/__init__.py:144: UserWarning: The psycopg2 wheel package will be renamed from release 2.8; in order to keep installing from binary please use \"pip install psycopg2-binary\" instead. For details see: <http://initd.org/psycopg/docs/install.html#binary-install-from-pypi>.\n",
            "  \"\"\")\n"
          ]
        }
      ]
    },
    {
      "cell_type": "code",
      "metadata": {
        "id": "7q7iujTiY4fr"
      },
      "source": [
        "conn = psycopg2.connect(\n",
        "    host='covid19db.org',\n",
        "    port=5432,\n",
        "    dbname='covid19',\n",
        "    user='covid19',\n",
        "    password='covid19')\n",
        "cur = conn.cursor()"
      ],
      "execution_count": 2,
      "outputs": []
    },
    {
      "cell_type": "code",
      "metadata": {
        "colab": {
          "base_uri": "https://localhost:8080/",
          "height": 289
        },
        "id": "y_0mad6datQ9",
        "outputId": "fa3da055-7568-4a0a-9ffb-d5020958f35c"
      },
      "source": [
        "sql_command = \"\"\"SELECT * FROM epidemiology WHERE source = 'USA_CTP' ORDER by date DESC\"\"\"\n",
        "df_epidemiology = pd.read_sql(sql_command, conn)#, params={'source': 'USA_CTP'})\n",
        "df_epidemiology.head()"
      ],
      "execution_count": 7,
      "outputs": [
        {
          "output_type": "execute_result",
          "data": {
            "text/html": [
              "<div>\n",
              "<style scoped>\n",
              "    .dataframe tbody tr th:only-of-type {\n",
              "        vertical-align: middle;\n",
              "    }\n",
              "\n",
              "    .dataframe tbody tr th {\n",
              "        vertical-align: top;\n",
              "    }\n",
              "\n",
              "    .dataframe thead th {\n",
              "        text-align: right;\n",
              "    }\n",
              "</style>\n",
              "<table border=\"1\" class=\"dataframe\">\n",
              "  <thead>\n",
              "    <tr style=\"text-align: right;\">\n",
              "      <th></th>\n",
              "      <th>source</th>\n",
              "      <th>date</th>\n",
              "      <th>country</th>\n",
              "      <th>countrycode</th>\n",
              "      <th>adm_area_1</th>\n",
              "      <th>adm_area_2</th>\n",
              "      <th>adm_area_3</th>\n",
              "      <th>tested</th>\n",
              "      <th>confirmed</th>\n",
              "      <th>recovered</th>\n",
              "      <th>dead</th>\n",
              "      <th>hospitalised</th>\n",
              "      <th>hospitalised_icu</th>\n",
              "      <th>quarantined</th>\n",
              "      <th>gid</th>\n",
              "    </tr>\n",
              "  </thead>\n",
              "  <tbody>\n",
              "    <tr>\n",
              "      <th>0</th>\n",
              "      <td>USA_CTP</td>\n",
              "      <td>2021-03-07</td>\n",
              "      <td>United States</td>\n",
              "      <td>USA</td>\n",
              "      <td>Kentucky</td>\n",
              "      <td>None</td>\n",
              "      <td>None</td>\n",
              "      <td>4819.0</td>\n",
              "      <td>410709.0</td>\n",
              "      <td>4034.0</td>\n",
              "      <td>48145.0</td>\n",
              "      <td>3975672.0</td>\n",
              "      <td>19457.0</td>\n",
              "      <td>None</td>\n",
              "      <td>[USA.18_1]</td>\n",
              "    </tr>\n",
              "    <tr>\n",
              "      <th>1</th>\n",
              "      <td>USA_CTP</td>\n",
              "      <td>2021-03-07</td>\n",
              "      <td>United States</td>\n",
              "      <td>USA</td>\n",
              "      <td>Missouri</td>\n",
              "      <td>None</td>\n",
              "      <td>None</td>\n",
              "      <td>8161.0</td>\n",
              "      <td>480643.0</td>\n",
              "      <td>NaN</td>\n",
              "      <td>NaN</td>\n",
              "      <td>4565866.0</td>\n",
              "      <td>NaN</td>\n",
              "      <td>None</td>\n",
              "      <td>[USA.26_1]</td>\n",
              "    </tr>\n",
              "    <tr>\n",
              "      <th>2</th>\n",
              "      <td>USA_CTP</td>\n",
              "      <td>2021-03-07</td>\n",
              "      <td>United States</td>\n",
              "      <td>USA</td>\n",
              "      <td>Northern Mariana Islands</td>\n",
              "      <td>None</td>\n",
              "      <td>None</td>\n",
              "      <td>2.0</td>\n",
              "      <td>145.0</td>\n",
              "      <td>NaN</td>\n",
              "      <td>29.0</td>\n",
              "      <td>17574.0</td>\n",
              "      <td>4.0</td>\n",
              "      <td>None</td>\n",
              "      <td>[MNP]</td>\n",
              "    </tr>\n",
              "    <tr>\n",
              "      <th>3</th>\n",
              "      <td>USA_CTP</td>\n",
              "      <td>2021-03-07</td>\n",
              "      <td>United States</td>\n",
              "      <td>USA</td>\n",
              "      <td>Mississippi</td>\n",
              "      <td>None</td>\n",
              "      <td>None</td>\n",
              "      <td>6808.0</td>\n",
              "      <td>297581.0</td>\n",
              "      <td>NaN</td>\n",
              "      <td>278162.0</td>\n",
              "      <td>1756955.0</td>\n",
              "      <td>9162.0</td>\n",
              "      <td>None</td>\n",
              "      <td>[USA.25_1]</td>\n",
              "    </tr>\n",
              "    <tr>\n",
              "      <th>4</th>\n",
              "      <td>USA_CTP</td>\n",
              "      <td>2021-03-07</td>\n",
              "      <td>United States</td>\n",
              "      <td>USA</td>\n",
              "      <td>Montana</td>\n",
              "      <td>None</td>\n",
              "      <td>None</td>\n",
              "      <td>1381.0</td>\n",
              "      <td>100914.0</td>\n",
              "      <td>NaN</td>\n",
              "      <td>97943.0</td>\n",
              "      <td>1104488.0</td>\n",
              "      <td>4630.0</td>\n",
              "      <td>None</td>\n",
              "      <td>[USA.27_1]</td>\n",
              "    </tr>\n",
              "  </tbody>\n",
              "</table>\n",
              "</div>"
            ],
            "text/plain": [
              "    source        date        country  ... hospitalised_icu quarantined         gid\n",
              "0  USA_CTP  2021-03-07  United States  ...          19457.0        None  [USA.18_1]\n",
              "1  USA_CTP  2021-03-07  United States  ...              NaN        None  [USA.26_1]\n",
              "2  USA_CTP  2021-03-07  United States  ...              4.0        None       [MNP]\n",
              "3  USA_CTP  2021-03-07  United States  ...           9162.0        None  [USA.25_1]\n",
              "4  USA_CTP  2021-03-07  United States  ...           4630.0        None  [USA.27_1]\n",
              "\n",
              "[5 rows x 15 columns]"
            ]
          },
          "metadata": {},
          "execution_count": 7
        }
      ]
    },
    {
      "cell_type": "code",
      "metadata": {
        "colab": {
          "base_uri": "https://localhost:8080/"
        },
        "id": "5dWjTTyURK6j",
        "outputId": "0d579fc9-a8c5-4136-af9b-fa65242d46c1"
      },
      "source": [
        "print(df_epidemiology['adm_area_1'].nunique())\n",
        "print(df_epidemiology['adm_area_1'].unique())"
      ],
      "execution_count": 8,
      "outputs": [
        {
          "output_type": "stream",
          "name": "stdout",
          "text": [
            "56\n",
            "['Kentucky' 'Missouri' 'Northern Mariana Islands' 'Mississippi' 'Montana'\n",
            " 'North Carolina' 'Nebraska' 'Puerto Rico' 'Alaska' 'Louisiana' None\n",
            " 'Guam' 'Hawaii' 'Utah' 'Oregon' 'Ohio' 'New York' 'Iowa' 'Idaho' 'Maine'\n",
            " 'Michigan' 'Minnesota' 'Nevada' 'New Mexico' 'New Jersey' 'North Dakota'\n",
            " 'New Hampshire' 'Illinois' 'Washington' 'Oklahoma' 'Florida' 'Wyoming'\n",
            " 'Virginia' 'Texas' 'Indiana' 'Alabama' 'Arkansas' 'Tennessee'\n",
            " 'South Dakota' 'South Carolina' 'Rhode Island' 'Wisconsin' 'Pennsylvania'\n",
            " 'Virgin Islands' 'West Virginia' 'American Samoa' 'Arizona' 'California'\n",
            " 'Colorado' 'Connecticut' 'District of Columbia' 'Delaware' 'Maryland'\n",
            " 'Georgia' 'Kansas' 'Massachusetts' 'Vermont']\n"
          ]
        }
      ]
    },
    {
      "cell_type": "code",
      "metadata": {
        "colab": {
          "base_uri": "https://localhost:8080/"
        },
        "id": "tS3v_Zoab2Um",
        "outputId": "5f1ce4d6-274a-4c51-fd26-70f5f81bfdb0"
      },
      "source": [
        "sql_command = \"\"\"SELECT * FROM epidemiology WHERE source = 'USA_CTP' and adm_area_1 = 'Texas'\"\"\"\n",
        "df_epidemiology = pd.read_sql(sql_command, conn)#, params={'source': 'USA_CTP'})\n",
        "print(df_epidemiology.head())\n",
        "print(df_epidemiology.shape)"
      ],
      "execution_count": 12,
      "outputs": [
        {
          "output_type": "stream",
          "name": "stdout",
          "text": [
            "    source        date        country  ... hospitalised_icu quarantined         gid\n",
            "0  USA_CTP  2020-04-06  United States  ...             None        None  [USA.44_1]\n",
            "1  USA_CTP  2020-04-05  United States  ...             None        None  [USA.44_1]\n",
            "2  USA_CTP  2020-12-19  United States  ...             None        None  [USA.44_1]\n",
            "3  USA_CTP  2020-05-24  United States  ...             None        None  [USA.44_1]\n",
            "4  USA_CTP  2020-05-23  United States  ...             None        None  [USA.44_1]\n",
            "\n",
            "[5 rows x 15 columns]\n",
            "(370, 15)\n"
          ]
        }
      ]
    },
    {
      "cell_type": "code",
      "metadata": {
        "colab": {
          "base_uri": "https://localhost:8080/"
        },
        "id": "-z4QAOXxBX_p",
        "outputId": "bacd1399-b52e-49b1-d91d-1df612d4995f"
      },
      "source": [
        "print(df_epidemiology.columns)\n",
        "print(df_epidemiology['date'].nunique())\n",
        "df_epidemiology['date'].unique()[:10]"
      ],
      "execution_count": 13,
      "outputs": [
        {
          "output_type": "stream",
          "name": "stdout",
          "text": [
            "Index(['source', 'date', 'country', 'countrycode', 'adm_area_1', 'adm_area_2',\n",
            "       'adm_area_3', 'tested', 'confirmed', 'recovered', 'dead',\n",
            "       'hospitalised', 'hospitalised_icu', 'quarantined', 'gid'],\n",
            "      dtype='object')\n",
            "370\n"
          ]
        },
        {
          "output_type": "execute_result",
          "data": {
            "text/plain": [
              "array([datetime.date(2020, 4, 6), datetime.date(2020, 4, 5),\n",
              "       datetime.date(2020, 12, 19), datetime.date(2020, 5, 24),\n",
              "       datetime.date(2020, 5, 23), datetime.date(2020, 3, 30),\n",
              "       datetime.date(2020, 3, 22), datetime.date(2020, 3, 11),\n",
              "       datetime.date(2020, 12, 8), datetime.date(2020, 8, 31)],\n",
              "      dtype=object)"
            ]
          },
          "metadata": {},
          "execution_count": 13
        }
      ]
    },
    {
      "cell_type": "code",
      "metadata": {
        "id": "3FP7vhTOBzB4"
      },
      "source": [
        "start_date = datetime.date(year=2020,  month=3,  day=1)\n",
        "df_epidemiology = df_epidemiology[df_epidemiology['date'] >= start_date]"
      ],
      "execution_count": 14,
      "outputs": []
    },
    {
      "cell_type": "code",
      "metadata": {
        "colab": {
          "base_uri": "https://localhost:8080/"
        },
        "id": "sgHRThf7FXhd",
        "outputId": "48c90502-c9d7-42ec-9ba3-ce49ac0855ae"
      },
      "source": [
        "df_epidemiology.shape"
      ],
      "execution_count": 15,
      "outputs": [
        {
          "output_type": "execute_result",
          "data": {
            "text/plain": [
              "(370, 15)"
            ]
          },
          "metadata": {},
          "execution_count": 15
        }
      ]
    },
    {
      "cell_type": "code",
      "metadata": {
        "colab": {
          "base_uri": "https://localhost:8080/",
          "height": 308
        },
        "id": "oXFdZsH5FkGB",
        "outputId": "441ebbfd-b8c1-497b-f767-cf4facd4a543"
      },
      "source": [
        "sns.lineplot(data=df_epidemiology, x=\"date\", y=\"confirmed\")"
      ],
      "execution_count": 16,
      "outputs": [
        {
          "output_type": "execute_result",
          "data": {
            "text/plain": [
              "<matplotlib.axes._subplots.AxesSubplot at 0x7f49c5fe2ad0>"
            ]
          },
          "metadata": {},
          "execution_count": 16
        },
        {
          "output_type": "display_data",
          "data": {
            "image/png": "[encoded data removed]",
            "text/plain": [
              "<Figure size 432x288 with 1 Axes>"
            ]
          },
          "metadata": {
            "needs_background": "light"
          }
        }
      ]
    }
  ]
}