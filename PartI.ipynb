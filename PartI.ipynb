{
  "nbformat": 4,
  "nbformat_minor": 0,
  "metadata": {
    "colab": {
      "name": "PartI.ipynb",
      "provenance": [],
      "collapsed_sections": [],
      "authorship_tag": "ABX9TyMOqEvvOS2+lRbL2lkgAcDb",
      "include_colab_link": true
    },
    "kernelspec": {
      "name": "python3",
      "display_name": "Python 3"
    },
    "language_info": {
      "name": "python"
    }
  },
  "cells": [
    {
      "cell_type": "markdown",
      "metadata": {
        "id": "view-in-github",
        "colab_type": "text"
      },
      "source": [
        "<a href=\"https://colab.research.google.com/github/mudita11/Covid-visual/blob/main/PartI.ipynb\" target=\"_parent\"><img src=\"https://colab.research.google.com/assets/colab-badge.svg\" alt=\"Open In Colab\"/></a>"
      ]
    },
    {
      "cell_type": "code",
      "metadata": {
        "id": "L0oZGhRpYs7m"
      },
      "source": [
        "import psycopg2\n",
        "import pandas as pd\n",
        "import datetime\n",
        "import seaborn as sns"
      ],
      "execution_count": 30,
      "outputs": []
    },
    {
      "cell_type": "code",
      "metadata": {
        "id": "7q7iujTiY4fr"
      },
      "source": [
        "conn = psycopg2.connect(\n",
        "    host='covid19db.org',\n",
        "    port=5432,\n",
        "    dbname='covid19',\n",
        "    user='covid19',\n",
        "    password='covid19')\n",
        "cur = conn.cursor()"
      ],
      "execution_count": 3,
      "outputs": []
    },
    {
      "cell_type": "code",
      "metadata": {
        "colab": {
          "base_uri": "https://localhost:8080/"
        },
        "id": "5TSwWaMnY-xl",
        "outputId": "9f837d89-a294-49ea-ef87-48f53a781a5e"
      },
      "source": [
        "sql_command = \"\"\"SELECT DISTINCT source FROM epidemiology ORDER by source\"\"\"\n",
        "df_epidemiology = pd.read_sql(sql_command, conn)\n",
        "df_epidemiology.values.flatten()"
      ],
      "execution_count": 4,
      "outputs": [
        {
          "output_type": "execute_result",
          "data": {
            "text/plain": [
              "array(['AUS_C1A', 'BEL_LE', 'BEL_SCI', 'BEL_WY', 'BRA_MSHM', 'CAN_GOV',\n",
              "       'CHE_OPGOV', 'CHN_ICL', 'DEU_JPGG', 'ESP_ISCIII', 'ESP_MS',\n",
              "       'ESP_MSVP', 'EU_ZH', 'FRA_SPF', 'FRA_SPFCG', 'GBR_NIDH', 'GBR_PHE',\n",
              "       'GBR_PHS', 'GBR_PHTW', 'GBR_PHW', 'IDN_GTPPC', 'IND_COVIND',\n",
              "       'IRL_HSPC', 'IRQ_GOV', 'ITA_PC', 'ITA_PCDM', 'JPN_C1JACD',\n",
              "       'KOR_DS4C', 'LAT_DSRP', 'LBN_GOV', 'MYS_MHYS', 'NGA_CDC',\n",
              "       'NGA_HERA', 'NGA_SO', 'NLD_CW', 'PAK_GOV', 'POL_COVID', 'POL_GOV',\n",
              "       'POL_ROG', 'POL_WIKI', 'PRT_MSDS', 'RUS_GOV', 'SAU_GOV', 'SWE_GM',\n",
              "       'SWE_SIR', 'THA_STAT', 'TUR_MHOE', 'UAE_GOV', 'USA_CTP', 'USA_NYT',\n",
              "       'WRD_ECDC', 'WRD_ECDC_WEEKLY', 'WRD_WHO', 'WRD_WHOJHU',\n",
              "       'ZAF_DSFSI'], dtype=object)"
            ]
          },
          "metadata": {},
          "execution_count": 4
        }
      ]
    },
    {
      "cell_type": "code",
      "metadata": {
        "colab": {
          "base_uri": "https://localhost:8080/",
          "height": 289
        },
        "id": "odfHkJYfZK80",
        "outputId": "3cde22de-bef4-462a-8d32-0b6cff693e99"
      },
      "source": [
        "source = \"USA_CTP\"\n",
        "\n",
        "sql_command = \"\"\"SELECT * FROM epidemiology WHERE source = %(source)s ORDER by date DESC\"\"\"\n",
        "df_epidemiology = pd.read_sql(sql_command, conn, params={'source': source})\n",
        "df_epidemiology.head()"
      ],
      "execution_count": 8,
      "outputs": [
        {
          "output_type": "execute_result",
          "data": {
            "text/html": [
              "<div>\n",
              "<style scoped>\n",
              "    .dataframe tbody tr th:only-of-type {\n",
              "        vertical-align: middle;\n",
              "    }\n",
              "\n",
              "    .dataframe tbody tr th {\n",
              "        vertical-align: top;\n",
              "    }\n",
              "\n",
              "    .dataframe thead th {\n",
              "        text-align: right;\n",
              "    }\n",
              "</style>\n",
              "<table border=\"1\" class=\"dataframe\">\n",
              "  <thead>\n",
              "    <tr style=\"text-align: right;\">\n",
              "      <th></th>\n",
              "      <th>source</th>\n",
              "      <th>date</th>\n",
              "      <th>country</th>\n",
              "      <th>countrycode</th>\n",
              "      <th>adm_area_1</th>\n",
              "      <th>adm_area_2</th>\n",
              "      <th>adm_area_3</th>\n",
              "      <th>tested</th>\n",
              "      <th>confirmed</th>\n",
              "      <th>recovered</th>\n",
              "      <th>dead</th>\n",
              "      <th>hospitalised</th>\n",
              "      <th>hospitalised_icu</th>\n",
              "      <th>quarantined</th>\n",
              "      <th>gid</th>\n",
              "    </tr>\n",
              "  </thead>\n",
              "  <tbody>\n",
              "    <tr>\n",
              "      <th>0</th>\n",
              "      <td>USA_CTP</td>\n",
              "      <td>2021-03-07</td>\n",
              "      <td>United States</td>\n",
              "      <td>USA</td>\n",
              "      <td>Wisconsin</td>\n",
              "      <td>None</td>\n",
              "      <td>None</td>\n",
              "      <td>7106.0</td>\n",
              "      <td>621654.0</td>\n",
              "      <td>2273.0</td>\n",
              "      <td>553203.0</td>\n",
              "      <td>7080595.0</td>\n",
              "      <td>26457.0</td>\n",
              "      <td>None</td>\n",
              "      <td>[USA.50_1]</td>\n",
              "    </tr>\n",
              "    <tr>\n",
              "      <th>1</th>\n",
              "      <td>USA_CTP</td>\n",
              "      <td>2021-03-07</td>\n",
              "      <td>United States</td>\n",
              "      <td>USA</td>\n",
              "      <td>Washington</td>\n",
              "      <td>None</td>\n",
              "      <td>None</td>\n",
              "      <td>5041.0</td>\n",
              "      <td>344532.0</td>\n",
              "      <td>NaN</td>\n",
              "      <td>NaN</td>\n",
              "      <td>5393756.0</td>\n",
              "      <td>19599.0</td>\n",
              "      <td>None</td>\n",
              "      <td>[USA.48_1]</td>\n",
              "    </tr>\n",
              "    <tr>\n",
              "      <th>2</th>\n",
              "      <td>USA_CTP</td>\n",
              "      <td>2021-03-07</td>\n",
              "      <td>United States</td>\n",
              "      <td>USA</td>\n",
              "      <td>Missouri</td>\n",
              "      <td>None</td>\n",
              "      <td>None</td>\n",
              "      <td>8161.0</td>\n",
              "      <td>480643.0</td>\n",
              "      <td>NaN</td>\n",
              "      <td>NaN</td>\n",
              "      <td>4565866.0</td>\n",
              "      <td>NaN</td>\n",
              "      <td>None</td>\n",
              "      <td>[USA.26_1]</td>\n",
              "    </tr>\n",
              "    <tr>\n",
              "      <th>3</th>\n",
              "      <td>USA_CTP</td>\n",
              "      <td>2021-03-07</td>\n",
              "      <td>United States</td>\n",
              "      <td>USA</td>\n",
              "      <td>Kentucky</td>\n",
              "      <td>None</td>\n",
              "      <td>None</td>\n",
              "      <td>4819.0</td>\n",
              "      <td>410709.0</td>\n",
              "      <td>4034.0</td>\n",
              "      <td>48145.0</td>\n",
              "      <td>3975672.0</td>\n",
              "      <td>19457.0</td>\n",
              "      <td>None</td>\n",
              "      <td>[USA.18_1]</td>\n",
              "    </tr>\n",
              "    <tr>\n",
              "      <th>4</th>\n",
              "      <td>USA_CTP</td>\n",
              "      <td>2021-03-07</td>\n",
              "      <td>United States</td>\n",
              "      <td>USA</td>\n",
              "      <td>Indiana</td>\n",
              "      <td>None</td>\n",
              "      <td>None</td>\n",
              "      <td>12737.0</td>\n",
              "      <td>667262.0</td>\n",
              "      <td>7600.0</td>\n",
              "      <td>NaN</td>\n",
              "      <td>8242367.0</td>\n",
              "      <td>43217.0</td>\n",
              "      <td>None</td>\n",
              "      <td>[USA.15_1]</td>\n",
              "    </tr>\n",
              "  </tbody>\n",
              "</table>\n",
              "</div>"
            ],
            "text/plain": [
              "    source        date        country  ... hospitalised_icu quarantined         gid\n",
              "0  USA_CTP  2021-03-07  United States  ...          26457.0        None  [USA.50_1]\n",
              "1  USA_CTP  2021-03-07  United States  ...          19599.0        None  [USA.48_1]\n",
              "2  USA_CTP  2021-03-07  United States  ...              NaN        None  [USA.26_1]\n",
              "3  USA_CTP  2021-03-07  United States  ...          19457.0        None  [USA.18_1]\n",
              "4  USA_CTP  2021-03-07  United States  ...          43217.0        None  [USA.15_1]\n",
              "\n",
              "[5 rows x 15 columns]"
            ]
          },
          "metadata": {},
          "execution_count": 8
        }
      ]
    },
    {
      "cell_type": "code",
      "metadata": {
        "colab": {
          "base_uri": "https://localhost:8080/"
        },
        "id": "y_0mad6datQ9",
        "outputId": "45e7a5d8-0e36-4e2f-e978-ce22c0d49a00"
      },
      "source": [
        "sql_command = \"\"\"SELECT * FROM epidemiology WHERE source = 'USA_CTP' ORDER by date DESC\"\"\"\n",
        "df_epidemiology = pd.read_sql(sql_command, conn)#, params={'source': 'USA_CTP'})\n",
        "#df_epidemiology.head()\n",
        "print(df_epidemiology['adm_area_1'].nunique())\n",
        "df_epidemiology['adm_area_1'].unique()"
      ],
      "execution_count": 4,
      "outputs": [
        {
          "output_type": "stream",
          "name": "stdout",
          "text": [
            "56\n"
          ]
        },
        {
          "output_type": "execute_result",
          "data": {
            "text/plain": [
              "array(['Wisconsin', 'Washington', 'Missouri', 'Kentucky', 'Indiana',\n",
              "       'Illinois', 'Wyoming', 'Vermont', 'Virgin Islands', 'Virginia',\n",
              "       'Utah', 'Texas', 'Tennessee', 'South Dakota', 'South Carolina',\n",
              "       'Rhode Island', 'Pennsylvania', 'Oregon', 'Oklahoma', 'Ohio',\n",
              "       'New York', 'Nevada', 'New Mexico', 'New Jersey', 'New Hampshire',\n",
              "       'North Dakota', 'Minnesota', 'Michigan', 'Maine', 'Maryland',\n",
              "       'Louisiana', 'Florida', 'Delaware', 'District of Columbia',\n",
              "       'Connecticut', 'Colorado', 'California', 'Arizona',\n",
              "       'American Samoa', 'Arkansas', 'Alabama', 'Alaska', 'Idaho', 'Iowa',\n",
              "       'Mississippi', 'Montana', 'North Carolina', 'Nebraska',\n",
              "       'Puerto Rico', 'Hawaii', 'Guam', None, 'Georgia', 'Kansas',\n",
              "       'Massachusetts', 'Northern Mariana Islands', 'West Virginia'],\n",
              "      dtype=object)"
            ]
          },
          "metadata": {},
          "execution_count": 4
        }
      ]
    },
    {
      "cell_type": "code",
      "metadata": {
        "colab": {
          "base_uri": "https://localhost:8080/"
        },
        "id": "tS3v_Zoab2Um",
        "outputId": "73a4a1d5-2866-4e8d-eba8-d031975e2ee6"
      },
      "source": [
        "sql_command = \"\"\"SELECT * FROM epidemiology WHERE adm_area_1 = 'Texas' \"\"\"\n",
        "df_epidemiology = pd.read_sql(sql_command, conn)#, params={'source': 'USA_CTP'})\n",
        "df_epidemiology.head()\n",
        "df_epidemiology.shape"
      ],
      "execution_count": 6,
      "outputs": [
        {
          "output_type": "execute_result",
          "data": {
            "text/plain": [
              "(141139, 15)"
            ]
          },
          "metadata": {},
          "execution_count": 6
        }
      ]
    },
    {
      "cell_type": "code",
      "metadata": {
        "colab": {
          "base_uri": "https://localhost:8080/"
        },
        "id": "-z4QAOXxBX_p",
        "outputId": "dcd48b70-1ea3-4f5e-c87e-169536594f36"
      },
      "source": [
        "print(df_epidemiology.columns)\n",
        "print(df_epidemiology['date'].nunique())\n",
        "df_epidemiology['date'].unique()[:10]"
      ],
      "execution_count": 22,
      "outputs": [
        {
          "output_type": "stream",
          "name": "stdout",
          "text": [
            "Index(['source', 'date', 'country', 'countrycode', 'adm_area_1', 'adm_area_2',\n",
            "       'adm_area_3', 'tested', 'confirmed', 'recovered', 'dead',\n",
            "       'hospitalised', 'hospitalised_icu', 'quarantined', 'gid'],\n",
            "      dtype='object')\n",
            "612\n"
          ]
        },
        {
          "output_type": "execute_result",
          "data": {
            "text/plain": [
              "array([datetime.date(2021, 9, 5), datetime.date(2021, 5, 12),\n",
              "       datetime.date(2021, 8, 23), datetime.date(2021, 6, 2),\n",
              "       datetime.date(2021, 7, 4), datetime.date(2021, 4, 5),\n",
              "       datetime.date(2021, 4, 6), datetime.date(2021, 4, 7),\n",
              "       datetime.date(2021, 4, 8), datetime.date(2021, 4, 9)], dtype=object)"
            ]
          },
          "metadata": {},
          "execution_count": 22
        }
      ]
    },
    {
      "cell_type": "code",
      "metadata": {
        "id": "3FP7vhTOBzB4"
      },
      "source": [
        "start_date = datetime.date(year=2020,  month=3,  day=1)\n",
        "df_epidemiology = df_epidemiology[df_epidemiology['date'] >= start_date]"
      ],
      "execution_count": 28,
      "outputs": []
    },
    {
      "cell_type": "code",
      "metadata": {
        "colab": {
          "base_uri": "https://localhost:8080/"
        },
        "id": "sgHRThf7FXhd",
        "outputId": "c3023981-54cb-462c-ef8b-54c31ac31b06"
      },
      "source": [
        "df_epidemiology.shape"
      ],
      "execution_count": 29,
      "outputs": [
        {
          "output_type": "execute_result",
          "data": {
            "text/plain": [
              "(141103, 15)"
            ]
          },
          "metadata": {},
          "execution_count": 29
        }
      ]
    },
    {
      "cell_type": "code",
      "metadata": {
        "colab": {
          "base_uri": "https://localhost:8080/",
          "height": 297
        },
        "id": "oXFdZsH5FkGB",
        "outputId": "987f50a5-5b6d-453d-c333-c09203930018"
      },
      "source": [
        "sns.lineplot(data=df_epidemiology, x=\"date\", y=\"confirmed\")"
      ],
      "execution_count": 31,
      "outputs": [
        {
          "output_type": "execute_result",
          "data": {
            "text/plain": [
              "<matplotlib.axes._subplots.AxesSubplot at 0x7f064b77c0d0>"
            ]
          },
          "metadata": {},
          "execution_count": 31
        },
        {
          "output_type": "display_data",
          "data": {
            "image/png": "[encoded data removed]",
            "text/plain": [
              "<Figure size 432x288 with 1 Axes>"
            ]
          },
          "metadata": {
            "needs_background": "light"
          }
        }
      ]
    }
  ]
}