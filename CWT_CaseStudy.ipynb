{
  "nbformat": 4,
  "nbformat_minor": 0,
  "metadata": {
    "colab": {
      "provenance": [],
      "authorship_tag": "ABX9TyOLfhIIfknaXLEls/SiSIwX",
      "include_colab_link": true
    },
    "kernelspec": {
      "name": "python3",
      "display_name": "Python 3"
    },
    "language_info": {
      "name": "python"
    }
  },
  "cells": [
    {
      "cell_type": "markdown",
      "metadata": {
        "id": "view-in-github",
        "colab_type": "text"
      },
      "source": [
        "<a href=\"https://colab.research.google.com/github/mudita11/Covid-visual/blob/main/CWT_CaseStudy.ipynb\" target=\"_parent\"><img src=\"https://colab.research.google.com/assets/colab-badge.svg\" alt=\"Open In Colab\"/></a>"
      ]
    },
    {
      "cell_type": "code",
      "execution_count": 1,
      "metadata": {
        "id": "bfDbLsf0x229"
      },
      "outputs": [],
      "source": [
        "import csv\n",
        "import numpy as np\n",
        "import pandas as pd\n",
        "import matplotlib.pyplot as plt\n",
        "from dateutil.parser import parse\n",
        "import nltk\n",
        "import string\n",
        "import re\n",
        "from nltk.stem import WordNetLemmatizer \n",
        "from nltk.corpus import stopwords\n",
        "from sklearn.feature_extraction.text import TfidfVectorizer\n",
        "from sklearn.model_selection import train_test_split\n",
        "from sklearn.ensemble import RandomForestClassifier\n",
        "from sklearn.linear_model import LogisticRegression, LinearRegression\n",
        "from sklearn.metrics import classification_report, accuracy_score, f1_score, confusion_matrix, roc_curve, pairwise_distances, roc_auc_score, precision_score, recall_score, precision_recall_curve, mean_squared_error\n",
        "from IPython.core.interactiveshell import InteractiveShell\n",
        "InteractiveShell.ast_node_interactivity = \"all\"\n",
        "pd.options.display.max_rows = 50\n",
        "pd.options.display.max_columns = 50"
      ]
    },
    {
      "cell_type": "code",
      "source": [
        "def count_unique(col, txt, sort_index):\n",
        "    unique_restaurant = np.unique(col, return_counts = True)\n",
        "    a = unique_restaurant[0]\n",
        "    b = unique_restaurant[1]\n",
        "    unique_restaurant_all = list(zip(a, b))\n",
        "    print('Number of unique {} {}'.format(txt, len(unique_restaurant_all)))\n",
        "    sorted_unique_restaurant_all = sorted(unique_restaurant_all, key=lambda t: t[sort_index], reverse=True)\n",
        "    return a, b, sorted_unique_restaurant_all"
      ],
      "metadata": {
        "id": "-KWsHVF9zo-Z"
      },
      "execution_count": 2,
      "outputs": []
    },
    {
      "cell_type": "code",
      "source": [
        "df = pd.read_csv('London_reviews.csv', header=None)"
      ],
      "metadata": {
        "colab": {
          "base_uri": "https://localhost:8080/"
        },
        "id": "f9SXoDA2zpIf",
        "outputId": "252c54bc-f334-4fa8-871d-22e2bb36a215"
      },
      "execution_count": 3,
      "outputs": [
        {
          "output_type": "stream",
          "name": "stderr",
          "text": [
            "/usr/local/lib/python3.7/dist-packages/IPython/core/interactiveshell.py:3326: DtypeWarning: Columns (0,1,3) have mixed types.Specify dtype option on import or set low_memory=False.\n",
            "  exec(code_obj, self.user_global_ns, self.user_ns)\n"
          ]
        }
      ]
    },
    {
      "cell_type": "code",
      "source": [
        "df.head()"
      ],
      "metadata": {
        "colab": {
          "base_uri": "https://localhost:8080/",
          "height": 583
        },
        "id": "mHIbB5tRzpLd",
        "outputId": "d7843478-e479-40a0-b80b-e4d4f7a4dff1"
      },
      "execution_count": 4,
      "outputs": [
        {
          "output_type": "execute_result",
          "data": {
            "text/plain": [
              "    0            1                     2              3         4   \\\n",
              "0  NaN  parse_count       restaurant_name  rating_review    sample   \n",
              "1  0.0            1  Cocotte_Notting_Hill            5.0  Positive   \n",
              "2  1.0            2  Cocotte_Notting_Hill            5.0  Positive   \n",
              "3  2.0            3  Cocotte_Notting_Hill            5.0  Positive   \n",
              "4  3.0            4  Cocotte_Notting_Hill            5.0  Positive   \n",
              "\n",
              "                 5                                                  6   \\\n",
              "0         review_id                                       title_review   \n",
              "1  review_771556136                                       JUST PERFECT   \n",
              "2  review_771555883  Quality food, Food travels well, Excellent cus...   \n",
              "3  review_770716943                        Came here because we missed   \n",
              "4  review_770027676                                      Great service   \n",
              "\n",
              "                                                  7   \\\n",
              "0                                     review_preview   \n",
              "1  I was away for couple of months and  I am so h...   \n",
              "2  I recently ordered over the phone from Cocotte...   \n",
              "3  Came here because we missed our table at Farma...   \n",
              "4  My first time in cocotte and was amazed by how...   \n",
              "\n",
              "                                                  8                   9   \\\n",
              "0                                        review_full                date   \n",
              "1  I was away for couple of months and I am so ha...  September 23, 2020   \n",
              "2  I recently ordered over the phone from Cocotte...  September 23, 2020   \n",
              "3  Came here because we missed our table at Farma...  September 17, 2020   \n",
              "4  My first time in cocotte and was amazed by how...  September 12, 2020   \n",
              "\n",
              "               10                                                 11  \\\n",
              "0            city                                     url_restaurant   \n",
              "1  London_England  https://www.tripadvisor.com/Restaurant_Review-...   \n",
              "2  London_England  https://www.tripadvisor.com/Restaurant_Review-...   \n",
              "3  London_England  https://www.tripadvisor.com/Restaurant_Review-...   \n",
              "4  London_England  https://www.tripadvisor.com/Restaurant_Review-...   \n",
              "\n",
              "          12  \n",
              "0  author_id  \n",
              "1      UID_0  \n",
              "2      UID_1  \n",
              "3      UID_2  \n",
              "4      UID_3  "
            ],
            "text/html": [
              "\n",
              "  <div id=\"df-52347203-cffd-400f-af82-ee2a6c1bdddb\">\n",
              "    <div class=\"colab-df-container\">\n",
              "      <div>\n",
              "<style scoped>\n",
              "    .dataframe tbody tr th:only-of-type {\n",
              "        vertical-align: middle;\n",
              "    }\n",
              "\n",
              "    .dataframe tbody tr th {\n",
              "        vertical-align: top;\n",
              "    }\n",
              "\n",
              "    .dataframe thead th {\n",
              "        text-align: right;\n",
              "    }\n",
              "</style>\n",
              "<table border=\"1\" class=\"dataframe\">\n",
              "  <thead>\n",
              "    <tr style=\"text-align: right;\">\n",
              "      <th></th>\n",
              "      <th>0</th>\n",
              "      <th>1</th>\n",
              "      <th>2</th>\n",
              "      <th>3</th>\n",
              "      <th>4</th>\n",
              "      <th>5</th>\n",
              "      <th>6</th>\n",
              "      <th>7</th>\n",
              "      <th>8</th>\n",
              "      <th>9</th>\n",
              "      <th>10</th>\n",
              "      <th>11</th>\n",
              "      <th>12</th>\n",
              "    </tr>\n",
              "  </thead>\n",
              "  <tbody>\n",
              "    <tr>\n",
              "      <th>0</th>\n",
              "      <td>NaN</td>\n",
              "      <td>parse_count</td>\n",
              "      <td>restaurant_name</td>\n",
              "      <td>rating_review</td>\n",
              "      <td>sample</td>\n",
              "      <td>review_id</td>\n",
              "      <td>title_review</td>\n",
              "      <td>review_preview</td>\n",
              "      <td>review_full</td>\n",
              "      <td>date</td>\n",
              "      <td>city</td>\n",
              "      <td>url_restaurant</td>\n",
              "      <td>author_id</td>\n",
              "    </tr>\n",
              "    <tr>\n",
              "      <th>1</th>\n",
              "      <td>0.0</td>\n",
              "      <td>1</td>\n",
              "      <td>Cocotte_Notting_Hill</td>\n",
              "      <td>5.0</td>\n",
              "      <td>Positive</td>\n",
              "      <td>review_771556136</td>\n",
              "      <td>JUST PERFECT</td>\n",
              "      <td>I was away for couple of months and  I am so h...</td>\n",
              "      <td>I was away for couple of months and I am so ha...</td>\n",
              "      <td>September 23, 2020</td>\n",
              "      <td>London_England</td>\n",
              "      <td>https://www.tripadvisor.com/Restaurant_Review-...</td>\n",
              "      <td>UID_0</td>\n",
              "    </tr>\n",
              "    <tr>\n",
              "      <th>2</th>\n",
              "      <td>1.0</td>\n",
              "      <td>2</td>\n",
              "      <td>Cocotte_Notting_Hill</td>\n",
              "      <td>5.0</td>\n",
              "      <td>Positive</td>\n",
              "      <td>review_771555883</td>\n",
              "      <td>Quality food, Food travels well, Excellent cus...</td>\n",
              "      <td>I recently ordered over the phone from Cocotte...</td>\n",
              "      <td>I recently ordered over the phone from Cocotte...</td>\n",
              "      <td>September 23, 2020</td>\n",
              "      <td>London_England</td>\n",
              "      <td>https://www.tripadvisor.com/Restaurant_Review-...</td>\n",
              "      <td>UID_1</td>\n",
              "    </tr>\n",
              "    <tr>\n",
              "      <th>3</th>\n",
              "      <td>2.0</td>\n",
              "      <td>3</td>\n",
              "      <td>Cocotte_Notting_Hill</td>\n",
              "      <td>5.0</td>\n",
              "      <td>Positive</td>\n",
              "      <td>review_770716943</td>\n",
              "      <td>Came here because we missed</td>\n",
              "      <td>Came here because we missed our table at Farma...</td>\n",
              "      <td>Came here because we missed our table at Farma...</td>\n",
              "      <td>September 17, 2020</td>\n",
              "      <td>London_England</td>\n",
              "      <td>https://www.tripadvisor.com/Restaurant_Review-...</td>\n",
              "      <td>UID_2</td>\n",
              "    </tr>\n",
              "    <tr>\n",
              "      <th>4</th>\n",
              "      <td>3.0</td>\n",
              "      <td>4</td>\n",
              "      <td>Cocotte_Notting_Hill</td>\n",
              "      <td>5.0</td>\n",
              "      <td>Positive</td>\n",
              "      <td>review_770027676</td>\n",
              "      <td>Great service</td>\n",
              "      <td>My first time in cocotte and was amazed by how...</td>\n",
              "      <td>My first time in cocotte and was amazed by how...</td>\n",
              "      <td>September 12, 2020</td>\n",
              "      <td>London_England</td>\n",
              "      <td>https://www.tripadvisor.com/Restaurant_Review-...</td>\n",
              "      <td>UID_3</td>\n",
              "    </tr>\n",
              "  </tbody>\n",
              "</table>\n",
              "</div>\n",
              "      <button class=\"colab-df-convert\" onclick=\"convertToInteractive('df-52347203-cffd-400f-af82-ee2a6c1bdddb')\"\n",
              "              title=\"Convert this dataframe to an interactive table.\"\n",
              "              style=\"display:none;\">\n",
              "        \n",
              "  <svg xmlns=\"http://www.w3.org/2000/svg\" height=\"24px\"viewBox=\"0 0 24 24\"\n",
              "       width=\"24px\">\n",
              "    <path d=\"M0 0h24v24H0V0z\" fill=\"none\"/>\n",
              "    <path d=\"M18.56 5.44l.94 2.06.94-2.06 2.06-.94-2.06-.94-.94-2.06-.94 2.06-2.06.94zm-11 1L8.5 8.5l.94-2.06 2.06-.94-2.06-.94L8.5 2.5l-.94 2.06-2.06.94zm10 10l.94 2.06.94-2.06 2.06-.94-2.06-.94-.94-2.06-.94 2.06-2.06.94z\"/><path d=\"M17.41 7.96l-1.37-1.37c-.4-.4-.92-.59-1.43-.59-.52 0-1.04.2-1.43.59L10.3 9.45l-7.72 7.72c-.78.78-.78 2.05 0 2.83L4 21.41c.39.39.9.59 1.41.59.51 0 1.02-.2 1.41-.59l7.78-7.78 2.81-2.81c.8-.78.8-2.07 0-2.86zM5.41 20L4 18.59l7.72-7.72 1.47 1.35L5.41 20z\"/>\n",
              "  </svg>\n",
              "      </button>\n",
              "      \n",
              "  <style>\n",
              "    .colab-df-container {\n",
              "      display:flex;\n",
              "      flex-wrap:wrap;\n",
              "      gap: 12px;\n",
              "    }\n",
              "\n",
              "    .colab-df-convert {\n",
              "      background-color: #E8F0FE;\n",
              "      border: none;\n",
              "      border-radius: 50%;\n",
              "      cursor: pointer;\n",
              "      display: none;\n",
              "      fill: #1967D2;\n",
              "      height: 32px;\n",
              "      padding: 0 0 0 0;\n",
              "      width: 32px;\n",
              "    }\n",
              "\n",
              "    .colab-df-convert:hover {\n",
              "      background-color: #E2EBFA;\n",
              "      box-shadow: 0px 1px 2px rgba(60, 64, 67, 0.3), 0px 1px 3px 1px rgba(60, 64, 67, 0.15);\n",
              "      fill: #174EA6;\n",
              "    }\n",
              "\n",
              "    [theme=dark] .colab-df-convert {\n",
              "      background-color: #3B4455;\n",
              "      fill: #D2E3FC;\n",
              "    }\n",
              "\n",
              "    [theme=dark] .colab-df-convert:hover {\n",
              "      background-color: #434B5C;\n",
              "      box-shadow: 0px 1px 3px 1px rgba(0, 0, 0, 0.15);\n",
              "      filter: drop-shadow(0px 1px 2px rgba(0, 0, 0, 0.3));\n",
              "      fill: #FFFFFF;\n",
              "    }\n",
              "  </style>\n",
              "\n",
              "      <script>\n",
              "        const buttonEl =\n",
              "          document.querySelector('#df-52347203-cffd-400f-af82-ee2a6c1bdddb button.colab-df-convert');\n",
              "        buttonEl.style.display =\n",
              "          google.colab.kernel.accessAllowed ? 'block' : 'none';\n",
              "\n",
              "        async function convertToInteractive(key) {\n",
              "          const element = document.querySelector('#df-52347203-cffd-400f-af82-ee2a6c1bdddb');\n",
              "          const dataTable =\n",
              "            await google.colab.kernel.invokeFunction('convertToInteractive',\n",
              "                                                     [key], {});\n",
              "          if (!dataTable) return;\n",
              "\n",
              "          const docLinkHtml = 'Like what you see? Visit the ' +\n",
              "            '<a target=\"_blank\" href=https://colab.research.google.com/notebooks/data_table.ipynb>data table notebook</a>'\n",
              "            + ' to learn more about interactive tables.';\n",
              "          element.innerHTML = '';\n",
              "          dataTable['output_type'] = 'display_data';\n",
              "          await google.colab.output.renderOutput(dataTable, element);\n",
              "          const docLink = document.createElement('div');\n",
              "          docLink.innerHTML = docLinkHtml;\n",
              "          element.appendChild(docLink);\n",
              "        }\n",
              "      </script>\n",
              "    </div>\n",
              "  </div>\n",
              "  "
            ]
          },
          "metadata": {},
          "execution_count": 4
        }
      ]
    },
    {
      "cell_type": "code",
      "source": [
        "arr = df.to_numpy()"
      ],
      "metadata": {
        "id": "7EFvXqbOzpOb"
      },
      "execution_count": 5,
      "outputs": []
    },
    {
      "cell_type": "markdown",
      "source": [
        "Shape and columns"
      ],
      "metadata": {
        "id": "QkR01xBIz4-n"
      }
    },
    {
      "cell_type": "code",
      "source": [
        "print('(Number of rows, number of columns) - {}'.format(np.shape(arr)))\n",
        "arr[0][0]='Index'\n",
        "all_columns = {item:idx for idx, item in enumerate(arr[0])}\n",
        "all_columns\n",
        "arr = arr[1:]"
      ],
      "metadata": {
        "colab": {
          "base_uri": "https://localhost:8080/"
        },
        "id": "_qFFKeLJzpTB",
        "outputId": "873b1fc2-3d43-41a1-fe3a-8f27c0108d0a"
      },
      "execution_count": 6,
      "outputs": [
        {
          "output_type": "stream",
          "name": "stdout",
          "text": [
            "(Number of rows, number of columns) - (996568, 13)\n"
          ]
        },
        {
          "output_type": "execute_result",
          "data": {
            "text/plain": [
              "{'Index': 0,\n",
              " 'parse_count': 1,\n",
              " 'restaurant_name': 2,\n",
              " 'rating_review': 3,\n",
              " 'sample': 4,\n",
              " 'review_id': 5,\n",
              " 'title_review': 6,\n",
              " 'review_preview': 7,\n",
              " 'review_full': 8,\n",
              " 'date': 9,\n",
              " 'city': 10,\n",
              " 'url_restaurant': 11,\n",
              " 'author_id': 12}"
            ]
          },
          "metadata": {},
          "execution_count": 6
        }
      ]
    },
    {
      "cell_type": "markdown",
      "source": [
        "Convert column type\n",
        "restaurant_name: str\n",
        "title_review: str\n",
        "review_full: str\n",
        "city: str"
      ],
      "metadata": {
        "id": "EmA3UDFZz_xX"
      }
    },
    {
      "cell_type": "code",
      "source": [
        "arr[:, all_columns['restaurant_name']] = arr[:, all_columns['restaurant_name']].astype('str')\n",
        "arr[:, all_columns['title_review']] = arr[:, all_columns['title_review']].astype('str')\n",
        "arr[:, all_columns['city']] = arr[:, all_columns['city']].astype('str')"
      ],
      "metadata": {
        "id": "RcqJnCbbzpVW"
      },
      "execution_count": 7,
      "outputs": []
    },
    {
      "cell_type": "markdown",
      "source": [
        "Count unique restaurants"
      ],
      "metadata": {
        "id": "c5IJATx80Fh4"
      }
    },
    {
      "cell_type": "code",
      "source": [
        "sorted_unique, a, b = count_unique(arr[:, all_columns['restaurant_name']], 'restaurant', 1)\n",
        "sorted_unique[-5:]"
      ],
      "metadata": {
        "colab": {
          "base_uri": "https://localhost:8080/"
        },
        "id": "wWiDxvPGzpX_",
        "outputId": "e204b441-2383-4ded-881d-38e07f14aa27"
      },
      "execution_count": 8,
      "outputs": [
        {
          "output_type": "stream",
          "name": "stdout",
          "text": [
            "Number of unique restaurant 1834\n"
          ]
        },
        {
          "output_type": "execute_result",
          "data": {
            "text/plain": [
              "array(['Zizzi_The_Strand', 'Zoilo', 'Zonzo_Restaurant', 'Zuma_London',\n",
              "       'nan'], dtype=object)"
            ]
          },
          "metadata": {},
          "execution_count": 8
        }
      ]
    },
    {
      "cell_type": "markdown",
      "source": [
        "Review 'rating_review' column and remove rows with incorrect values"
      ],
      "metadata": {
        "id": "V45eEgH90K56"
      }
    },
    {
      "cell_type": "code",
      "source": [
        "#rating_review column\n",
        "arr[:, all_columns['rating_review']]"
      ],
      "metadata": {
        "colab": {
          "base_uri": "https://localhost:8080/"
        },
        "id": "7sPhH2fKzpac",
        "outputId": "9c97f0fe-5b55-4be5-dda7-42e5fcd93c0c"
      },
      "execution_count": 9,
      "outputs": [
        {
          "output_type": "execute_result",
          "data": {
            "text/plain": [
              "array(['5.0', '5.0', '5.0', ..., 5.0, 5.0, 3.0], dtype=object)"
            ]
          },
          "metadata": {},
          "execution_count": 9
        }
      ]
    },
    {
      "cell_type": "code",
      "source": [
        "strings = ['', ' ', 'London_England']\n",
        "rows_to_delete = [i for i, item in enumerate(arr[:, all_columns['rating_review']]) if item in strings]\n",
        "print('Ratings as string {}'.format(rows_to_delete))\n",
        "arr = np.delete(arr, rows_to_delete, 0)"
      ],
      "metadata": {
        "colab": {
          "base_uri": "https://localhost:8080/"
        },
        "id": "nQoG7zCKzpdN",
        "outputId": "43a47f23-94c4-4324-fc09-3e27320a42b3"
      },
      "execution_count": 10,
      "outputs": [
        {
          "output_type": "stream",
          "name": "stdout",
          "text": [
            "Ratings as string [196134, 412023, 592755, 602263, 604122, 662621]\n"
          ]
        }
      ]
    },
    {
      "cell_type": "markdown",
      "source": [
        "Change type, rating_review: int"
      ],
      "metadata": {
        "id": "Yc6YyeNM0VST"
      }
    },
    {
      "cell_type": "code",
      "source": [
        "arr[:, all_columns['rating_review']] = arr[:, all_columns['rating_review']].astype('float').astype('int')"
      ],
      "metadata": {
        "id": "hY3-e7D3zpfr"
      },
      "execution_count": 11,
      "outputs": []
    },
    {
      "cell_type": "markdown",
      "source": [
        "Remove rows based rating_review incorrect values"
      ],
      "metadata": {
        "id": "UeU06RLs0Zmg"
      }
    },
    {
      "cell_type": "code",
      "source": [
        "rows_to_delete = [(np.where(arr[:, all_columns['rating_review']]<0) or (arr[:, all_columns['rating_review']]>5))]\n",
        "print('Ratings with incorrect score {}'.format(rows_to_delete))\n",
        "arr = np.delete(arr, rows_to_delete, 0)"
      ],
      "metadata": {
        "colab": {
          "base_uri": "https://localhost:8080/"
        },
        "id": "6-O2AHUwzpi_",
        "outputId": "16a94e59-f18c-4147-a7b6-d6b7f162d80b"
      },
      "execution_count": 12,
      "outputs": [
        {
          "output_type": "stream",
          "name": "stdout",
          "text": [
            "Ratings with incorrect score [(array([412019, 412020, 412021, 592748, 592749, 592750, 592751, 592752,\n",
            "       602259]),)]\n"
          ]
        }
      ]
    },
    {
      "cell_type": "markdown",
      "source": [
        "Counts of unique rating_review"
      ],
      "metadata": {
        "id": "kFUaCfkp0eK3"
      }
    },
    {
      "cell_type": "code",
      "source": [
        "#1-3: Negative, 4-5: Positive\n",
        "a, b, sorted_unique = count_unique(arr[:, all_columns['rating_review']], 'ratings', 1)\n",
        "sorted_unique[-10:]\n",
        "### Bar plot for rating_review count\n",
        "fig = plt.figure()\n",
        "ax = fig.add_axes([0,0,1,1])\n",
        "ax.bar(a, b)\n",
        "plt.show()"
      ],
      "metadata": {
        "colab": {
          "base_uri": "https://localhost:8080/",
          "height": 372
        },
        "id": "o3oc5w5-zpk3",
        "outputId": "1af1b568-efde-4a04-9db1-e359e186b369"
      },
      "execution_count": 13,
      "outputs": [
        {
          "output_type": "stream",
          "name": "stdout",
          "text": [
            "Number of unique ratings 5\n"
          ]
        },
        {
          "output_type": "execute_result",
          "data": {
            "text/plain": [
              "[(5, 584698), (4, 246994), (3, 87052), (2, 41877), (1, 35931)]"
            ]
          },
          "metadata": {},
          "execution_count": 13
        },
        {
          "output_type": "execute_result",
          "data": {
            "text/plain": [
              "<BarContainer object of 5 artists>"
            ]
          },
          "metadata": {},
          "execution_count": 13
        },
        {
          "output_type": "display_data",
          "data": {
            "text/plain": [
              "<Figure size 432x288 with 1 Axes>"
            ],
            "image/png": "[encoded data removed]"
          },
          "metadata": {
            "needs_background": "light"
          }
        }
      ]
    },
    {
      "cell_type": "markdown",
      "source": [
        "Number of positive vs negative reviews"
      ],
      "metadata": {
        "id": "dvQvxWeU0j2Y"
      }
    },
    {
      "cell_type": "code",
      "source": [
        "a, b, sorted_unique = count_unique(arr[:, all_columns['sample']], 'sentiment', 1)\n",
        "sorted_unique\n",
        "### Bar plot for sample count\n",
        "fig = plt.figure()\n",
        "ax = fig.add_axes([0,0,1,1])\n",
        "ax.bar(a, b)\n",
        "plt.show()"
      ],
      "metadata": {
        "colab": {
          "base_uri": "https://localhost:8080/",
          "height": 372
        },
        "id": "Jz0RCxEEzpnG",
        "outputId": "9a723c1d-83a4-4b2d-8e38-06c07c102bb5"
      },
      "execution_count": 14,
      "outputs": [
        {
          "output_type": "stream",
          "name": "stdout",
          "text": [
            "Number of unique sentiment 2\n"
          ]
        },
        {
          "output_type": "execute_result",
          "data": {
            "text/plain": [
              "[('Positive', 831692), ('Negative', 164860)]"
            ]
          },
          "metadata": {},
          "execution_count": 14
        },
        {
          "output_type": "execute_result",
          "data": {
            "text/plain": [
              "<BarContainer object of 2 artists>"
            ]
          },
          "metadata": {},
          "execution_count": 14
        },
        {
          "output_type": "display_data",
          "data": {
            "text/plain": [
              "<Figure size 432x288 with 1 Axes>"
            ],
            "image/png": "[encoded data removed]"
          },
          "metadata": {
            "needs_background": "light"
          }
        }
      ]
    },
    {
      "cell_type": "markdown",
      "source": [
        "Remove nan reviews"
      ],
      "metadata": {
        "id": "ft1WKbjl0o9p"
      }
    },
    {
      "cell_type": "code",
      "source": [
        "nan_review = [idx for idx, item in enumerate(arr[:, all_columns['review_full']]) if isinstance(item, float)]\n",
        "print('Row index with nan reviews {}'.format(nan_review))\n",
        "arr = np.delete(arr, nan_review, 0)"
      ],
      "metadata": {
        "colab": {
          "base_uri": "https://localhost:8080/"
        },
        "id": "cCAHaOmZzpp0",
        "outputId": "078c022b-c3d9-4d65-f645-bd3cd941026e"
      },
      "execution_count": 15,
      "outputs": [
        {
          "output_type": "stream",
          "name": "stdout",
          "text": [
            "Row index with nan reviews [196133, 412018, 592744, 602250, 604108, 662606]\n"
          ]
        }
      ]
    },
    {
      "cell_type": "code",
      "source": [
        "arr[:, all_columns['review_full']] = arr[:, all_columns['review_full']].astype('str')\n",
        "arr[:, all_columns['review_full']][:3]"
      ],
      "metadata": {
        "colab": {
          "base_uri": "https://localhost:8080/",
          "height": 190
        },
        "id": "a-KHaCiizpsW",
        "outputId": "7af8e7a6-d0de-4655-819f-2ec9709fc870"
      },
      "execution_count": 1,
      "outputs": [
        {
          "output_type": "error",
          "ename": "NameError",
          "evalue": "ignored",
          "traceback": [
            "\u001b[0;31m---------------------------------------------------------------------------\u001b[0m",
            "\u001b[0;31mNameError\u001b[0m                                 Traceback (most recent call last)",
            "\u001b[0;32m<ipython-input-1-903b114938d9>\u001b[0m in \u001b[0;36m<module>\u001b[0;34m\u001b[0m\n\u001b[0;32m----> 1\u001b[0;31m \u001b[0marr\u001b[0m\u001b[0;34m[\u001b[0m\u001b[0;34m:\u001b[0m\u001b[0;34m,\u001b[0m \u001b[0mall_columns\u001b[0m\u001b[0;34m[\u001b[0m\u001b[0;34m'review_full'\u001b[0m\u001b[0;34m]\u001b[0m\u001b[0;34m]\u001b[0m \u001b[0;34m=\u001b[0m \u001b[0marr\u001b[0m\u001b[0;34m[\u001b[0m\u001b[0;34m:\u001b[0m\u001b[0;34m,\u001b[0m \u001b[0mall_columns\u001b[0m\u001b[0;34m[\u001b[0m\u001b[0;34m'review_full'\u001b[0m\u001b[0;34m]\u001b[0m\u001b[0;34m]\u001b[0m\u001b[0;34m.\u001b[0m\u001b[0mastype\u001b[0m\u001b[0;34m(\u001b[0m\u001b[0;34m'str'\u001b[0m\u001b[0;34m)\u001b[0m\u001b[0;34m\u001b[0m\u001b[0;34m\u001b[0m\u001b[0m\n\u001b[0m\u001b[1;32m      2\u001b[0m \u001b[0marr\u001b[0m\u001b[0;34m[\u001b[0m\u001b[0;34m:\u001b[0m\u001b[0;34m,\u001b[0m \u001b[0mall_columns\u001b[0m\u001b[0;34m[\u001b[0m\u001b[0;34m'review_full'\u001b[0m\u001b[0;34m]\u001b[0m\u001b[0;34m]\u001b[0m\u001b[0;34m[\u001b[0m\u001b[0;34m:\u001b[0m\u001b[0;36m3\u001b[0m\u001b[0;34m]\u001b[0m\u001b[0;34m\u001b[0m\u001b[0;34m\u001b[0m\u001b[0m\n",
            "\u001b[0;31mNameError\u001b[0m: name 'arr' is not defined"
          ]
        }
      ]
    },
    {
      "cell_type": "markdown",
      "source": [
        "Change type, date: str and datetime format"
      ],
      "metadata": {
        "id": "COuQPqF_032H"
      }
    },
    {
      "cell_type": "code",
      "source": [
        "arr[:, all_columns['date']] = arr[:, all_columns['date']].astype('str')\n",
        "arr[:, all_columns['date']][:10]\n",
        "wo_nan_date = [item for item in arr[:, all_columns['date']] if item != 'nan']\n",
        "min(wo_nan_date)\n",
        "max(wo_nan_date)"
      ],
      "metadata": {
        "colab": {
          "base_uri": "https://localhost:8080/",
          "height": 89
        },
        "id": "Sv5kxAexzpu0",
        "outputId": "f2dfe1db-181d-4e97-fb24-09efe37ed73f"
      },
      "execution_count": 121,
      "outputs": [
        {
          "output_type": "execute_result",
          "data": {
            "text/plain": [
              "array(['September 23, 2020', 'September 23, 2020', 'September 17, 2020',\n",
              "       'September 12, 2020', 'August 22, 2020', 'August 21, 2020',\n",
              "       'August 10, 2020', 'August 8, 2020', 'August 7, 2020',\n",
              "       'July 14, 2020'], dtype=object)"
            ]
          },
          "metadata": {},
          "execution_count": 121
        },
        {
          "output_type": "execute_result",
          "data": {
            "text/plain": [
              "'April 1, 2008'"
            ],
            "application/vnd.google.colaboratory.intrinsic+json": {
              "type": "string"
            }
          },
          "metadata": {},
          "execution_count": 121
        },
        {
          "output_type": "execute_result",
          "data": {
            "text/plain": [
              "'September 9, 2020'"
            ],
            "application/vnd.google.colaboratory.intrinsic+json": {
              "type": "string"
            }
          },
          "metadata": {},
          "execution_count": 121
        }
      ]
    },
    {
      "cell_type": "markdown",
      "source": [
        "Count unique cities"
      ],
      "metadata": {
        "id": "5dJ_ChDQ09Y-"
      }
    },
    {
      "cell_type": "code",
      "source": [
        "unique_city = np.unique(arr[:, all_columns['city']], return_counts = True)\n",
        "unique_city_all = list(zip(unique_city[0],unique_city[1]))\n",
        "print('Number of unique cities {}'.format(len(unique_city_all)))\n",
        "sorted_unique_city_all = sorted(unique_city_all, key=lambda t: t[1], reverse=True)\n",
        "sorted_unique_city_all"
      ],
      "metadata": {
        "colab": {
          "base_uri": "https://localhost:8080/"
        },
        "id": "HYJ7-RVFzpzd",
        "outputId": "bf565f50-01b4-4194-d477-ce45e4004386"
      },
      "execution_count": 122,
      "outputs": [
        {
          "output_type": "stream",
          "name": "stdout",
          "text": [
            "Number of unique cities 2\n"
          ]
        },
        {
          "output_type": "execute_result",
          "data": {
            "text/plain": [
              "[('London_England', 996537), ('nan', 6)]"
            ]
          },
          "metadata": {},
          "execution_count": 122
        }
      ]
    },
    {
      "cell_type": "markdown",
      "source": [
        "Drop unnecessary columns"
      ],
      "metadata": {
        "id": "MWlZSxpW1Cjo"
      }
    },
    {
      "cell_type": "code",
      "source": [
        "drop_col = ['Index', 'parse_count', 'restaurant_name', 'sample', 'review_id', 'review_preview', 'date', 'city',  'url_restaurant','author_id'] \n",
        "col_to_delete = [all_columns[item] for item in drop_col]\n",
        "arr = np.delete(arr, col_to_delete, 1)"
      ],
      "metadata": {
        "id": "4kTECe-xzp1x"
      },
      "execution_count": 123,
      "outputs": []
    },
    {
      "cell_type": "code",
      "source": [
        "for item in arr[:,2]:\n",
        "    if isinstance(item, float):\n",
        "      print(item)"
      ],
      "metadata": {
        "colab": {
          "base_uri": "https://localhost:8080/"
        },
        "id": "s2_6MeraC3cN",
        "outputId": "dfd7f767-8ac3-434c-cc68-f4d2874b4348"
      },
      "execution_count": 127,
      "outputs": [
        {
          "output_type": "stream",
          "name": "stdout",
          "text": [
            "nan\n",
            "nan\n",
            "nan\n",
            "nan\n",
            "nan\n",
            "nan\n"
          ]
        }
      ]
    },
    {
      "cell_type": "code",
      "source": [
        "merge_txt = arr[:,1]+' '+arr[:,2]\n",
        "merge_txt[0]"
      ],
      "metadata": {
        "colab": {
          "base_uri": "https://localhost:8080/",
          "height": 190
        },
        "id": "lA6O6BH0zp3h",
        "outputId": "69ced521-1929-460a-e909-4c7d775632ab"
      },
      "execution_count": 124,
      "outputs": [
        {
          "output_type": "error",
          "ename": "TypeError",
          "evalue": "ignored",
          "traceback": [
            "\u001b[0;31m---------------------------------------------------------------------------\u001b[0m",
            "\u001b[0;31mTypeError\u001b[0m                                 Traceback (most recent call last)",
            "\u001b[0;32m<ipython-input-124-6bd34f10a1a8>\u001b[0m in \u001b[0;36m<module>\u001b[0;34m\u001b[0m\n\u001b[0;32m----> 1\u001b[0;31m \u001b[0mmerge_txt\u001b[0m \u001b[0;34m=\u001b[0m \u001b[0marr\u001b[0m\u001b[0;34m[\u001b[0m\u001b[0;34m:\u001b[0m\u001b[0;34m,\u001b[0m\u001b[0;36m1\u001b[0m\u001b[0;34m]\u001b[0m\u001b[0;34m+\u001b[0m\u001b[0;34m' '\u001b[0m\u001b[0;34m+\u001b[0m\u001b[0marr\u001b[0m\u001b[0;34m[\u001b[0m\u001b[0;34m:\u001b[0m\u001b[0;34m,\u001b[0m\u001b[0;36m2\u001b[0m\u001b[0;34m]\u001b[0m\u001b[0;34m\u001b[0m\u001b[0;34m\u001b[0m\u001b[0m\n\u001b[0m\u001b[1;32m      2\u001b[0m \u001b[0mmerge_txt\u001b[0m\u001b[0;34m[\u001b[0m\u001b[0;36m0\u001b[0m\u001b[0;34m]\u001b[0m\u001b[0;34m\u001b[0m\u001b[0;34m\u001b[0m\u001b[0m\n",
            "\u001b[0;31mTypeError\u001b[0m: can only concatenate str (not \"float\") to str"
          ]
        }
      ]
    },
    {
      "cell_type": "markdown",
      "source": [
        "Pre-process text"
      ],
      "metadata": {
        "id": "cC2SJ_Y4-MDw"
      }
    },
    {
      "cell_type": "code",
      "source": [
        "def process(sentence):\n",
        "    # Remove special charaters\n",
        "    output = re.findall('[\\w]+', sentence.lower())\n",
        "    # Remove digits\n",
        "    output = [re.sub(r'\\d+', '', item) for item in output]\n",
        "    # Remove urls\n",
        "    output = [re.sub(r'http\\S+', '', item) for item in output]\n",
        "    #work level tokenise\n",
        "    #word_list = nltk.word_tokenize(output)\n",
        "    # lemmatize\n",
        "    tokens = [lemmatizer.lemmatize(word=item) for item in output if item not in stop]\n",
        "    # if using TfidfVectorizer or CountVectorizer, as they expect sentence and not tokens. They tokenise themselves.\n",
        "    tokens = (' ').join(tokens)\n",
        "    return tokens"
      ],
      "metadata": {
        "id": "Pb8bzujjzp7z"
      },
      "execution_count": 75,
      "outputs": []
    },
    {
      "cell_type": "code",
      "source": [
        "#Initialise lemmatizer\n",
        "lemmatizer = WordNetLemmatizer()\n",
        "# stop words\n",
        "stop = set(stopwords.words('english') + list(string.punctuation))\n",
        "stop.add('')\n",
        "processed_reviews = [process(sent) for sent in data[:,1]]\n",
        "processed_reviews[0]"
      ],
      "metadata": {
        "id": "I8oRJbRmzp-T"
      },
      "execution_count": 76,
      "outputs": []
    },
    {
      "cell_type": "markdown",
      "source": [
        "Vector representation"
      ],
      "metadata": {
        "id": "gkxQCgnD-P5-"
      }
    },
    {
      "cell_type": "code",
      "source": [
        "vectorizer = TfidfVectorizer()#CountVectorizer()\n",
        "X = vectorizer.fit_transform(processed_reviews)\n",
        "Y = arr[:,0]\n",
        "print(np.shape(X))\n",
        "print(np.shape(Y))"
      ],
      "metadata": {
        "colab": {
          "base_uri": "https://localhost:8080/"
        },
        "id": "ctcPzcT-9-yk",
        "outputId": "77f27810-435b-46f2-b909-8da183a832c5"
      },
      "execution_count": 86,
      "outputs": [
        {
          "output_type": "stream",
          "name": "stdout",
          "text": [
            "(8064, 14171)\n",
            "(8064,)\n"
          ]
        }
      ]
    },
    {
      "cell_type": "markdown",
      "source": [
        "Train-Test split"
      ],
      "metadata": {
        "id": "o-Cltzwl_Wx3"
      }
    },
    {
      "cell_type": "code",
      "source": [
        "X_train, X_test, Y_train, Y_test = train_test_split(X, Y, test_size=0.25, random_state=42)\n",
        "Y_train=Y_train.astype('int')\n",
        "Y_test=Y_test.astype('int')\n",
        "print(np.shape(X_train), np.shape(X_test), np.shape(Y_train), np.shape(Y_test))"
      ],
      "metadata": {
        "colab": {
          "base_uri": "https://localhost:8080/"
        },
        "id": "uVFCowqx_Ugq",
        "outputId": "deee96df-bf0f-4bec-a7e9-c0b34968d5eb"
      },
      "execution_count": 94,
      "outputs": [
        {
          "output_type": "stream",
          "name": "stdout",
          "text": [
            "(6048, 14171) (2016, 14171) (6048,) (2016,)\n"
          ]
        }
      ]
    },
    {
      "cell_type": "markdown",
      "source": [
        "Random Forest Classifier"
      ],
      "metadata": {
        "id": "q96hq-1X_w6k"
      }
    },
    {
      "cell_type": "code",
      "source": [
        "rfc = RandomForestClassifier(max_depth=2, random_state=0)\n",
        "rfc.fit(X_train, Y_train)\n",
        "Y_predict_train = rfc.predict(X_train)\n",
        "Y_predict_test = rfc.predict(X_test)\n",
        "print(f'Accuracy Score (Train set): {accuracy_score(Y_train, Y_predict_train)}')\n",
        "print(f'Accuracy Score (Test set): {accuracy_score(Y_test, Y_predict_test)}')"
      ],
      "metadata": {
        "colab": {
          "base_uri": "https://localhost:8080/"
        },
        "id": "7RsUf1WH_vi4",
        "outputId": "1601710a-2a23-4001-e477-9feabbdb27a9"
      },
      "execution_count": 98,
      "outputs": [
        {
          "output_type": "execute_result",
          "data": {
            "text/plain": [
              "RandomForestClassifier(max_depth=2, random_state=0)"
            ]
          },
          "metadata": {},
          "execution_count": 98
        },
        {
          "output_type": "stream",
          "name": "stdout",
          "text": [
            "Accuracy Score (Train set): 0.8202711640211641\n",
            "Accuracy Score (Test set): 0.8239087301587301\n"
          ]
        }
      ]
    },
    {
      "cell_type": "code",
      "source": [
        "lr = LogisticRegression()\n",
        "lr.fit(X_train, Y_train)\n",
        "Y_predict_train = lr.predict(X_train)\n",
        "Y_predict_test = lr.predict(X_test)\n",
        "print(f'Accuracy Score (Train set): {accuracy_score(Y_train, Y_predict_train)}')\n",
        "print(f'Accuracy Score (Test set): {accuracy_score(Y_test, Y_predict_test)}')"
      ],
      "metadata": {
        "colab": {
          "base_uri": "https://localhost:8080/"
        },
        "id": "b0ZDhga-_vmZ",
        "outputId": "0fbeaca5-67ce-4048-c41b-f91850f0463a"
      },
      "execution_count": 102,
      "outputs": [
        {
          "output_type": "execute_result",
          "data": {
            "text/plain": [
              "LogisticRegression()"
            ]
          },
          "metadata": {},
          "execution_count": 102
        },
        {
          "output_type": "stream",
          "name": "stdout",
          "text": [
            "Accuracy Score (Train set): 0.8697089947089947\n",
            "Accuracy Score (Test set): 0.8308531746031746\n"
          ]
        }
      ]
    },
    {
      "cell_type": "code",
      "source": [
        "lin = LogisticRegression()\n",
        "lin.fit(X_train, Y_train)\n",
        "Y_predict_train = lr.predict(X_train)\n",
        "Y_predict_test = lr.predict(X_test)\n",
        "print(f'MSE (Train set): {mean_squared_error(Y_train, Y_predict_train)}')\n",
        "print(f'MSE (Test set): {mean_squared_error(Y_test, Y_predict_test)}')"
      ],
      "metadata": {
        "colab": {
          "base_uri": "https://localhost:8080/"
        },
        "id": "wEsJVAyn_vqy",
        "outputId": "a2abc42e-c5c7-4c49-fd89-0ab8b663fbc8"
      },
      "execution_count": 105,
      "outputs": [
        {
          "output_type": "execute_result",
          "data": {
            "text/plain": [
              "LogisticRegression()"
            ]
          },
          "metadata": {},
          "execution_count": 105
        },
        {
          "output_type": "stream",
          "name": "stdout",
          "text": [
            "MSE (Train set): 0.41418650793650796\n",
            "MSE (Test set): 0.48313492063492064\n"
          ]
        }
      ]
    },
    {
      "cell_type": "code",
      "source": [
        "#data = np.transpose(np.vstack((arr[:,0], processed_reviews)))\n",
        "#np.shape(data)\n",
        "#data[0]"
      ],
      "metadata": {
        "colab": {
          "base_uri": "https://localhost:8080/"
        },
        "id": "DySiszKr9iw1",
        "outputId": "43b09347-a977-453b-e23a-f162c3a26593"
      },
      "execution_count": 83,
      "outputs": [
        {
          "output_type": "execute_result",
          "data": {
            "text/plain": [
              "(8065,)"
            ]
          },
          "metadata": {},
          "execution_count": 83
        },
        {
          "output_type": "execute_result",
          "data": {
            "text/plain": [
              "5"
            ]
          },
          "metadata": {},
          "execution_count": 83
        }
      ]
    },
    {
      "cell_type": "code",
      "source": [
        "#nltk.download('punkt')\n",
        "#nltk.download('wordnet')\n",
        "nltk.download('omw-1.4')"
      ],
      "metadata": {
        "colab": {
          "base_uri": "https://localhost:8080/"
        },
        "id": "LHcy9Y9KzqAv",
        "outputId": "ce5175e4-5f65-4238-ffda-ca7f22aa30fd"
      },
      "execution_count": 57,
      "outputs": [
        {
          "output_type": "stream",
          "name": "stderr",
          "text": [
            "[nltk_data] Downloading package omw-1.4 to /root/nltk_data...\n"
          ]
        },
        {
          "output_type": "execute_result",
          "data": {
            "text/plain": [
              "True"
            ]
          },
          "metadata": {},
          "execution_count": 57
        }
      ]
    }
  ]
}