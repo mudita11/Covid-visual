{
  "nbformat": 4,
  "nbformat_minor": 0,
  "metadata": {
    "colab": {
      "name": "PartI.ipynb",
      "provenance": [],
      "collapsed_sections": [],
      "authorship_tag": "ABX9TyPZWb+bfKgxvSz5rlwWlBOB",
      "include_colab_link": true
    },
    "kernelspec": {
      "name": "python3",
      "display_name": "Python 3"
    },
    "language_info": {
      "name": "python"
    }
  },
  "cells": [
    {
      "cell_type": "markdown",
      "metadata": {
        "id": "view-in-github",
        "colab_type": "text"
      },
      "source": [
        "<a href=\"https://colab.research.google.com/github/mudita11/Covid-visual/blob/main/Introduction.ipynb\" target=\"_parent\"><img src=\"https://colab.research.google.com/assets/colab-badge.svg\" alt=\"Open In Colab\"/></a>"
      ]
    },
    {
      "cell_type": "code",
      "metadata": {
        "id": "L0oZGhRpYs7m",
        "colab": {
          "base_uri": "https://localhost:8080/"
        },
        "outputId": "4e90c3e7-caa7-445a-af0a-e69789cb164c"
      },
      "source": [
        "import psycopg2\n",
        "import pandas as pd\n",
        "import datetime\n",
        "import seaborn as sns"
      ],
      "execution_count": 1,
      "outputs": [
        {
          "output_type": "stream",
          "name": "stderr",
          "text": [
            "/usr/local/lib/python3.7/dist-packages/psycopg2/__init__.py:144: UserWarning: The psycopg2 wheel package will be renamed from release 2.8; in order to keep installing from binary please use \"pip install psycopg2-binary\" instead. For details see: <http://initd.org/psycopg/docs/install.html#binary-install-from-pypi>.\n",
            "  \"\"\")\n"
          ]
        }
      ]
    },
    {
      "cell_type": "code",
      "metadata": {
        "id": "7q7iujTiY4fr"
      },
      "source": [
        "conn = psycopg2.connect(\n",
        "    host='covid19db.org',\n",
        "    port=5432,\n",
        "    dbname='covid19',\n",
        "    user='covid19',\n",
        "    password='covid19')\n",
        "cur = conn.cursor()"
      ],
      "execution_count": 2,
      "outputs": []
    },
    {
      "cell_type": "code",
      "metadata": {
        "colab": {
          "base_uri": "https://localhost:8080/"
        },
        "id": "y_0mad6datQ9",
        "outputId": "0164c5e5-e0be-4d17-8bdd-f9bb4a5064b9"
      },
      "source": [
        "sql_command = \"\"\"SELECT * FROM epidemiology WHERE source = 'USA_NYT' ORDER by date DESC\"\"\"\n",
        "df_epidemiology = pd.read_sql(sql_command, conn)#, params={'source': 'USA_CTP'})\n",
        "df_epidemiology.head(10)\n",
        "df_epidemiology.shape"
      ],
      "execution_count": 3,
      "outputs": [
        {
          "output_type": "execute_result",
          "data": {
            "text/plain": [
              "(1846084, 15)"
            ]
          },
          "metadata": {},
          "execution_count": 3
        }
      ]
    },
    {
      "cell_type": "code",
      "metadata": {
        "colab": {
          "base_uri": "https://localhost:8080/"
        },
        "id": "5dWjTTyURK6j",
        "outputId": "1f31ae99-7cea-49de-8add-919a65cf53ad"
      },
      "source": [
        "print(df_epidemiology['adm_area_1'].nunique())\n",
        "print(df_epidemiology['adm_area_1'].unique())"
      ],
      "execution_count": 5,
      "outputs": [
        {
          "output_type": "stream",
          "name": "stdout",
          "text": [
            "56\n",
            "['Iowa' 'Kansas' 'Mississippi' 'Minnesota' 'Michigan' 'Maine' 'Louisiana'\n",
            " 'Kentucky' 'Montana' 'Missouri' 'Nebraska' 'Nevada' 'New Hampshire'\n",
            " 'New Mexico' 'New York' 'North Carolina' 'North Dakota' 'Ohio' 'Oklahoma'\n",
            " 'Oregon' 'Pennsylvania' 'Puerto Rico' 'South Dakota' 'Tennessee' 'Texas'\n",
            " 'Virginia' 'Washington' 'West Virginia' 'Wisconsin' 'Wyoming'\n",
            " 'Virgin Islands' 'Georgia' 'Idaho' 'Indiana' 'Florida' 'Delaware'\n",
            " 'Connecticut' 'Colorado' 'California' 'Arkansas' 'Arizona' 'Alaska'\n",
            " 'Alabama' 'Illinois' 'Hawaii' 'Utah' 'Vermont' 'Rhode Island'\n",
            " 'South Carolina' 'New Jersey' 'Northern Mariana Islands' 'Massachusetts'\n",
            " 'Maryland' 'American Samoa' 'District of Columbia' 'Guam']\n"
          ]
        }
      ]
    },
    {
      "cell_type": "code",
      "metadata": {
        "colab": {
          "base_uri": "https://localhost:8080/",
          "height": 307
        },
        "id": "tS3v_Zoab2Um",
        "outputId": "ee1a72c1-a7a1-446f-9410-77a82cd89014"
      },
      "source": [
        "sql_command = \"\"\"SELECT * FROM epidemiology WHERE source = 'USA_NYT' and adm_area_1 = 'Texas'\"\"\"\n",
        "df_epidemiology_texas = pd.read_sql(sql_command, conn)#, params={'source': 'USA_CTP'})\n",
        "print(df_epidemiology_texas.shape)\n",
        "df_epidemiology_texas.head()"
      ],
      "execution_count": 6,
      "outputs": [
        {
          "output_type": "stream",
          "name": "stdout",
          "text": [
            "(141279, 15)\n"
          ]
        },
        {
          "output_type": "execute_result",
          "data": {
            "text/html": [
              "<div>\n",
              "<style scoped>\n",
              "    .dataframe tbody tr th:only-of-type {\n",
              "        vertical-align: middle;\n",
              "    }\n",
              "\n",
              "    .dataframe tbody tr th {\n",
              "        vertical-align: top;\n",
              "    }\n",
              "\n",
              "    .dataframe thead th {\n",
              "        text-align: right;\n",
              "    }\n",
              "</style>\n",
              "<table border=\"1\" class=\"dataframe\">\n",
              "  <thead>\n",
              "    <tr style=\"text-align: right;\">\n",
              "      <th></th>\n",
              "      <th>source</th>\n",
              "      <th>date</th>\n",
              "      <th>country</th>\n",
              "      <th>countrycode</th>\n",
              "      <th>adm_area_1</th>\n",
              "      <th>adm_area_2</th>\n",
              "      <th>adm_area_3</th>\n",
              "      <th>tested</th>\n",
              "      <th>confirmed</th>\n",
              "      <th>recovered</th>\n",
              "      <th>dead</th>\n",
              "      <th>hospitalised</th>\n",
              "      <th>hospitalised_icu</th>\n",
              "      <th>quarantined</th>\n",
              "      <th>gid</th>\n",
              "    </tr>\n",
              "  </thead>\n",
              "  <tbody>\n",
              "    <tr>\n",
              "      <th>0</th>\n",
              "      <td>USA_NYT</td>\n",
              "      <td>2021-07-04</td>\n",
              "      <td>United States</td>\n",
              "      <td>USA</td>\n",
              "      <td>Texas</td>\n",
              "      <td>Tarrant</td>\n",
              "      <td>None</td>\n",
              "      <td>None</td>\n",
              "      <td>263690</td>\n",
              "      <td>None</td>\n",
              "      <td>3577</td>\n",
              "      <td>None</td>\n",
              "      <td>None</td>\n",
              "      <td>None</td>\n",
              "      <td>[USA.44.220_1]</td>\n",
              "    </tr>\n",
              "    <tr>\n",
              "      <th>1</th>\n",
              "      <td>USA_NYT</td>\n",
              "      <td>2021-07-04</td>\n",
              "      <td>United States</td>\n",
              "      <td>USA</td>\n",
              "      <td>Texas</td>\n",
              "      <td>Taylor</td>\n",
              "      <td>None</td>\n",
              "      <td>None</td>\n",
              "      <td>16047</td>\n",
              "      <td>None</td>\n",
              "      <td>416</td>\n",
              "      <td>None</td>\n",
              "      <td>None</td>\n",
              "      <td>None</td>\n",
              "      <td>[USA.44.221_1]</td>\n",
              "    </tr>\n",
              "    <tr>\n",
              "      <th>2</th>\n",
              "      <td>USA_NYT</td>\n",
              "      <td>2021-07-04</td>\n",
              "      <td>United States</td>\n",
              "      <td>USA</td>\n",
              "      <td>Texas</td>\n",
              "      <td>Terry</td>\n",
              "      <td>None</td>\n",
              "      <td>None</td>\n",
              "      <td>1702</td>\n",
              "      <td>None</td>\n",
              "      <td>57</td>\n",
              "      <td>None</td>\n",
              "      <td>None</td>\n",
              "      <td>None</td>\n",
              "      <td>[USA.44.223_1]</td>\n",
              "    </tr>\n",
              "    <tr>\n",
              "      <th>3</th>\n",
              "      <td>USA_NYT</td>\n",
              "      <td>2021-07-04</td>\n",
              "      <td>United States</td>\n",
              "      <td>USA</td>\n",
              "      <td>Texas</td>\n",
              "      <td>Throckmorton</td>\n",
              "      <td>None</td>\n",
              "      <td>None</td>\n",
              "      <td>73</td>\n",
              "      <td>None</td>\n",
              "      <td>5</td>\n",
              "      <td>None</td>\n",
              "      <td>None</td>\n",
              "      <td>None</td>\n",
              "      <td>[USA.44.224_1]</td>\n",
              "    </tr>\n",
              "    <tr>\n",
              "      <th>4</th>\n",
              "      <td>USA_NYT</td>\n",
              "      <td>2021-07-04</td>\n",
              "      <td>United States</td>\n",
              "      <td>USA</td>\n",
              "      <td>Texas</td>\n",
              "      <td>Titus</td>\n",
              "      <td>None</td>\n",
              "      <td>None</td>\n",
              "      <td>4229</td>\n",
              "      <td>None</td>\n",
              "      <td>84</td>\n",
              "      <td>None</td>\n",
              "      <td>None</td>\n",
              "      <td>None</td>\n",
              "      <td>[USA.44.225_1]</td>\n",
              "    </tr>\n",
              "  </tbody>\n",
              "</table>\n",
              "</div>"
            ],
            "text/plain": [
              "    source        date  ... quarantined             gid\n",
              "0  USA_NYT  2021-07-04  ...        None  [USA.44.220_1]\n",
              "1  USA_NYT  2021-07-04  ...        None  [USA.44.221_1]\n",
              "2  USA_NYT  2021-07-04  ...        None  [USA.44.223_1]\n",
              "3  USA_NYT  2021-07-04  ...        None  [USA.44.224_1]\n",
              "4  USA_NYT  2021-07-04  ...        None  [USA.44.225_1]\n",
              "\n",
              "[5 rows x 15 columns]"
            ]
          },
          "metadata": {},
          "execution_count": 6
        }
      ]
    },
    {
      "cell_type": "code",
      "metadata": {
        "colab": {
          "base_uri": "https://localhost:8080/"
        },
        "id": "-z4QAOXxBX_p",
        "outputId": "79bb663b-4e55-4ab0-cd35-7b0e4bcf3c64"
      },
      "source": [
        "print(df_epidemiology_texas.columns)\n",
        "print(df_epidemiology_texas['date'].nunique())\n",
        "df_epidemiology_texas['date'].unique()[:10]"
      ],
      "execution_count": 7,
      "outputs": [
        {
          "output_type": "stream",
          "name": "stdout",
          "text": [
            "Index(['source', 'date', 'country', 'countrycode', 'adm_area_1', 'adm_area_2',\n",
            "       'adm_area_3', 'tested', 'confirmed', 'recovered', 'dead',\n",
            "       'hospitalised', 'hospitalised_icu', 'quarantined', 'gid'],\n",
            "      dtype='object')\n",
            "614\n"
          ]
        },
        {
          "output_type": "execute_result",
          "data": {
            "text/plain": [
              "array([datetime.date(2021, 7, 4), datetime.date(2021, 4, 23),\n",
              "       datetime.date(2021, 4, 1), datetime.date(2021, 3, 29),\n",
              "       datetime.date(2021, 3, 4), datetime.date(2021, 4, 24),\n",
              "       datetime.date(2021, 6, 14), datetime.date(2021, 4, 25),\n",
              "       datetime.date(2020, 5, 18), datetime.date(2020, 6, 17)],\n",
              "      dtype=object)"
            ]
          },
          "metadata": {},
          "execution_count": 7
        }
      ]
    },
    {
      "cell_type": "code",
      "metadata": {
        "id": "3FP7vhTOBzB4"
      },
      "source": [
        "start_date = datetime.date(year=2020,  month=3,  day=1)\n",
        "df_epidemiology_before = df_epidemiology_texas[df_epidemiology_texas['date'] < start_date]"
      ],
      "execution_count": 8,
      "outputs": []
    },
    {
      "cell_type": "code",
      "metadata": {
        "colab": {
          "base_uri": "https://localhost:8080/"
        },
        "id": "sgHRThf7FXhd",
        "outputId": "33087709-aea0-426b-b9f6-a93b9160ac94"
      },
      "source": [
        "df_epidemiology_before.shape"
      ],
      "execution_count": 9,
      "outputs": [
        {
          "output_type": "execute_result",
          "data": {
            "text/plain": [
              "(36, 15)"
            ]
          },
          "metadata": {},
          "execution_count": 9
        }
      ]
    },
    {
      "cell_type": "code",
      "metadata": {
        "colab": {
          "base_uri": "https://localhost:8080/",
          "height": 297
        },
        "id": "oXFdZsH5FkGB",
        "outputId": "92d3b4f9-eb46-44f6-f758-54587ce84db6"
      },
      "source": [
        "sns.lineplot(data=df_epidemiology_before, x=\"date\", y=\"confirmed\")"
      ],
      "execution_count": 10,
      "outputs": [
        {
          "output_type": "execute_result",
          "data": {
            "text/plain": [
              "<matplotlib.axes._subplots.AxesSubplot at 0x7fe44667f110>"
            ]
          },
          "metadata": {},
          "execution_count": 10
        },
        {
          "output_type": "display_data",
          "data": {
            "image/png": "[encoded data removed]",
            "text/plain": [
              "<Figure size 432x288 with 1 Axes>"
            ]
          },
          "metadata": {
            "needs_background": "light"
          }
        }
      ]
    },
    {
      "cell_type": "code",
      "metadata": {
        "id": "cMJNPKrLoflN"
      },
      "source": [
        "df_epidemiology_after = df_epidemiology_texas[df_epidemiology_texas['date'] >= start_date]"
      ],
      "execution_count": 11,
      "outputs": []
    },
    {
      "cell_type": "code",
      "metadata": {
        "id": "S1yVls_0olQ1",
        "outputId": "9f059e69-300d-488f-bc9a-e2e9b7a3508d",
        "colab": {
          "base_uri": "https://localhost:8080/"
        }
      },
      "source": [
        "df_epidemiology_after.shape"
      ],
      "execution_count": 12,
      "outputs": [
        {
          "output_type": "execute_result",
          "data": {
            "text/plain": [
              "(141243, 15)"
            ]
          },
          "metadata": {},
          "execution_count": 12
        }
      ]
    },
    {
      "cell_type": "code",
      "metadata": {
        "id": "erUCrB-AqaV2",
        "outputId": "163a68cc-cda2-4288-dc2d-3ad9a66638da",
        "colab": {
          "base_uri": "https://localhost:8080/",
          "height": 301
        }
      },
      "source": [
        "sns.lineplot(data=df_epidemiology_after, x=\"date\", y=\"confirmed\")"
      ],
      "execution_count": 13,
      "outputs": [
        {
          "output_type": "execute_result",
          "data": {
            "text/plain": [
              "<matplotlib.axes._subplots.AxesSubplot at 0x7fe44449a410>"
            ]
          },
          "metadata": {},
          "execution_count": 13
        },
        {
          "output_type": "display_data",
          "data": {
            "image/png": "[encoded data removed]",
            "text/plain": [
              "<Figure size 432x288 with 1 Axes>"
            ]
          },
          "metadata": {
            "needs_background": "light"
          }
        }
      ]
    }
  ]
}