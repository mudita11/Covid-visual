{
  "nbformat": 4,
  "nbformat_minor": 0,
  "metadata": {
    "colab": {
      "name": "Test1.ipynb",
      "provenance": [],
      "authorship_tag": "ABX9TyPhev+kh0sYydsO1GZr8hXF",
      "include_colab_link": true
    },
    "kernelspec": {
      "name": "python3",
      "display_name": "Python 3"
    },
    "language_info": {
      "name": "python"
    }
  },
  "cells": [
    {
      "cell_type": "markdown",
      "metadata": {
        "id": "view-in-github",
        "colab_type": "text"
      },
      "source": [
        "<a href=\"https://colab.research.google.com/github/mudita11/Covid-visual/blob/main/Test1.ipynb\" target=\"_parent\"><img src=\"https://colab.research.google.com/assets/colab-badge.svg\" alt=\"Open In Colab\"/></a>"
      ]
    },
    {
      "cell_type": "code",
      "metadata": {
        "id": "Pd-7iN0W2Et2",
        "outputId": "e0b0033a-138b-4580-a7a9-0b35cba5331b",
        "colab": {
          "base_uri": "https://localhost:8080/"
        }
      },
      "source": [
        "import psycopg2\n",
        "import pandas as pd\n",
        "import datetime\n",
        "import seaborn as sns\n",
        "conn = psycopg2.connect(\n",
        "    host='covid19db.org',\n",
        "    port=5432,\n",
        "    dbname='covid19',\n",
        "    user='covid19',\n",
        "    password='covid19')\n",
        "cur = conn.cursor()"
      ],
      "execution_count": 1,
      "outputs": [
        {
          "output_type": "stream",
          "name": "stderr",
          "text": [
            "/usr/local/lib/python3.7/dist-packages/psycopg2/__init__.py:144: UserWarning: The psycopg2 wheel package will be renamed from release 2.8; in order to keep installing from binary please use \"pip install psycopg2-binary\" instead. For details see: <http://initd.org/psycopg/docs/install.html#binary-install-from-pypi>.\n",
            "  \"\"\")\n"
          ]
        }
      ]
    },
    {
      "cell_type": "code",
      "metadata": {
        "colab": {
          "base_uri": "https://localhost:8080/",
          "height": 204
        },
        "id": "kiQbUpuD_9DB",
        "outputId": "e0be52a3-6de0-4015-dfc8-78e2fc85b3c5"
      },
      "source": [
        "sql_command = \"\"\"SELECT * FROM epidemiology WHERE source = 'USA_NYT' and adm_area_1 = 'Texas'\"\"\"\n",
        "df_epidemiology = pd.read_sql(sql_command, conn)\n",
        "df_epidemiology.head()"
      ],
      "execution_count": 2,
      "outputs": [
        {
          "output_type": "execute_result",
          "data": {
            "text/html": [
              "<div>\n",
              "<style scoped>\n",
              "    .dataframe tbody tr th:only-of-type {\n",
              "        vertical-align: middle;\n",
              "    }\n",
              "\n",
              "    .dataframe tbody tr th {\n",
              "        vertical-align: top;\n",
              "    }\n",
              "\n",
              "    .dataframe thead th {\n",
              "        text-align: right;\n",
              "    }\n",
              "</style>\n",
              "<table border=\"1\" class=\"dataframe\">\n",
              "  <thead>\n",
              "    <tr style=\"text-align: right;\">\n",
              "      <th></th>\n",
              "      <th>source</th>\n",
              "      <th>date</th>\n",
              "      <th>country</th>\n",
              "      <th>countrycode</th>\n",
              "      <th>adm_area_1</th>\n",
              "      <th>adm_area_2</th>\n",
              "      <th>adm_area_3</th>\n",
              "      <th>tested</th>\n",
              "      <th>confirmed</th>\n",
              "      <th>recovered</th>\n",
              "      <th>dead</th>\n",
              "      <th>hospitalised</th>\n",
              "      <th>hospitalised_icu</th>\n",
              "      <th>quarantined</th>\n",
              "      <th>gid</th>\n",
              "    </tr>\n",
              "  </thead>\n",
              "  <tbody>\n",
              "    <tr>\n",
              "      <th>0</th>\n",
              "      <td>USA_NYT</td>\n",
              "      <td>2021-04-10</td>\n",
              "      <td>United States</td>\n",
              "      <td>USA</td>\n",
              "      <td>Texas</td>\n",
              "      <td>Floyd</td>\n",
              "      <td>None</td>\n",
              "      <td>None</td>\n",
              "      <td>827</td>\n",
              "      <td>None</td>\n",
              "      <td>30</td>\n",
              "      <td>None</td>\n",
              "      <td>None</td>\n",
              "      <td>None</td>\n",
              "      <td>[USA.44.77_1]</td>\n",
              "    </tr>\n",
              "    <tr>\n",
              "      <th>1</th>\n",
              "      <td>USA_NYT</td>\n",
              "      <td>2020-07-15</td>\n",
              "      <td>United States</td>\n",
              "      <td>USA</td>\n",
              "      <td>Texas</td>\n",
              "      <td>Montague</td>\n",
              "      <td>None</td>\n",
              "      <td>None</td>\n",
              "      <td>32</td>\n",
              "      <td>None</td>\n",
              "      <td>1</td>\n",
              "      <td>None</td>\n",
              "      <td>None</td>\n",
              "      <td>None</td>\n",
              "      <td>[USA.44.169_1]</td>\n",
              "    </tr>\n",
              "    <tr>\n",
              "      <th>2</th>\n",
              "      <td>USA_NYT</td>\n",
              "      <td>2020-07-15</td>\n",
              "      <td>United States</td>\n",
              "      <td>USA</td>\n",
              "      <td>Texas</td>\n",
              "      <td>Montgomery</td>\n",
              "      <td>None</td>\n",
              "      <td>None</td>\n",
              "      <td>4324</td>\n",
              "      <td>None</td>\n",
              "      <td>45</td>\n",
              "      <td>None</td>\n",
              "      <td>None</td>\n",
              "      <td>None</td>\n",
              "      <td>[USA.44.170_1]</td>\n",
              "    </tr>\n",
              "    <tr>\n",
              "      <th>3</th>\n",
              "      <td>USA_NYT</td>\n",
              "      <td>2020-07-15</td>\n",
              "      <td>United States</td>\n",
              "      <td>USA</td>\n",
              "      <td>Texas</td>\n",
              "      <td>Moore</td>\n",
              "      <td>None</td>\n",
              "      <td>None</td>\n",
              "      <td>921</td>\n",
              "      <td>None</td>\n",
              "      <td>15</td>\n",
              "      <td>None</td>\n",
              "      <td>None</td>\n",
              "      <td>None</td>\n",
              "      <td>[USA.44.171_1]</td>\n",
              "    </tr>\n",
              "    <tr>\n",
              "      <th>4</th>\n",
              "      <td>USA_NYT</td>\n",
              "      <td>2020-07-15</td>\n",
              "      <td>United States</td>\n",
              "      <td>USA</td>\n",
              "      <td>Texas</td>\n",
              "      <td>Morris</td>\n",
              "      <td>None</td>\n",
              "      <td>None</td>\n",
              "      <td>54</td>\n",
              "      <td>None</td>\n",
              "      <td>0</td>\n",
              "      <td>None</td>\n",
              "      <td>None</td>\n",
              "      <td>None</td>\n",
              "      <td>[USA.44.172_1]</td>\n",
              "    </tr>\n",
              "  </tbody>\n",
              "</table>\n",
              "</div>"
            ],
            "text/plain": [
              "    source        date  ... quarantined             gid\n",
              "0  USA_NYT  2021-04-10  ...        None   [USA.44.77_1]\n",
              "1  USA_NYT  2020-07-15  ...        None  [USA.44.169_1]\n",
              "2  USA_NYT  2020-07-15  ...        None  [USA.44.170_1]\n",
              "3  USA_NYT  2020-07-15  ...        None  [USA.44.171_1]\n",
              "4  USA_NYT  2020-07-15  ...        None  [USA.44.172_1]\n",
              "\n",
              "[5 rows x 15 columns]"
            ]
          },
          "metadata": {},
          "execution_count": 2
        }
      ]
    },
    {
      "cell_type": "code",
      "metadata": {
        "colab": {
          "base_uri": "https://localhost:8080/",
          "height": 204
        },
        "id": "M2FcVX6f75d0",
        "outputId": "03b0c923-859c-4cee-90fd-7e9d401fa4ce"
      },
      "source": [
        "sql_command = \"\"\"SELECT * FROM epidemiology WHERE source = 'USA_NYT' and adm_area_1 = 'Texas' and adm_area_2 = 'Dallas' and date > '2020-05-01' ORDER BY date\"\"\"\n",
        "test = pd.read_sql(sql_command, conn)\n",
        "test.head()"
      ],
      "execution_count": null,
      "outputs": [
        {
          "output_type": "execute_result",
          "data": {
            "text/html": [
              "<div>\n",
              "<style scoped>\n",
              "    .dataframe tbody tr th:only-of-type {\n",
              "        vertical-align: middle;\n",
              "    }\n",
              "\n",
              "    .dataframe tbody tr th {\n",
              "        vertical-align: top;\n",
              "    }\n",
              "\n",
              "    .dataframe thead th {\n",
              "        text-align: right;\n",
              "    }\n",
              "</style>\n",
              "<table border=\"1\" class=\"dataframe\">\n",
              "  <thead>\n",
              "    <tr style=\"text-align: right;\">\n",
              "      <th></th>\n",
              "      <th>source</th>\n",
              "      <th>date</th>\n",
              "      <th>country</th>\n",
              "      <th>countrycode</th>\n",
              "      <th>adm_area_1</th>\n",
              "      <th>adm_area_2</th>\n",
              "      <th>adm_area_3</th>\n",
              "      <th>tested</th>\n",
              "      <th>confirmed</th>\n",
              "      <th>recovered</th>\n",
              "      <th>dead</th>\n",
              "      <th>hospitalised</th>\n",
              "      <th>hospitalised_icu</th>\n",
              "      <th>quarantined</th>\n",
              "      <th>gid</th>\n",
              "    </tr>\n",
              "  </thead>\n",
              "  <tbody>\n",
              "    <tr>\n",
              "      <th>0</th>\n",
              "      <td>USA_NYT</td>\n",
              "      <td>2020-05-02</td>\n",
              "      <td>United States</td>\n",
              "      <td>USA</td>\n",
              "      <td>Texas</td>\n",
              "      <td>Dallas</td>\n",
              "      <td>None</td>\n",
              "      <td>None</td>\n",
              "      <td>3899</td>\n",
              "      <td>None</td>\n",
              "      <td>110</td>\n",
              "      <td>None</td>\n",
              "      <td>None</td>\n",
              "      <td>None</td>\n",
              "      <td>[USA.44.57_1]</td>\n",
              "    </tr>\n",
              "    <tr>\n",
              "      <th>1</th>\n",
              "      <td>USA_NYT</td>\n",
              "      <td>2020-05-03</td>\n",
              "      <td>United States</td>\n",
              "      <td>USA</td>\n",
              "      <td>Texas</td>\n",
              "      <td>Dallas</td>\n",
              "      <td>None</td>\n",
              "      <td>None</td>\n",
              "      <td>4133</td>\n",
              "      <td>None</td>\n",
              "      <td>111</td>\n",
              "      <td>None</td>\n",
              "      <td>None</td>\n",
              "      <td>None</td>\n",
              "      <td>[USA.44.57_1]</td>\n",
              "    </tr>\n",
              "    <tr>\n",
              "      <th>2</th>\n",
              "      <td>USA_NYT</td>\n",
              "      <td>2020-05-04</td>\n",
              "      <td>United States</td>\n",
              "      <td>USA</td>\n",
              "      <td>Texas</td>\n",
              "      <td>Dallas</td>\n",
              "      <td>None</td>\n",
              "      <td>None</td>\n",
              "      <td>4370</td>\n",
              "      <td>None</td>\n",
              "      <td>114</td>\n",
              "      <td>None</td>\n",
              "      <td>None</td>\n",
              "      <td>None</td>\n",
              "      <td>[USA.44.57_1]</td>\n",
              "    </tr>\n",
              "    <tr>\n",
              "      <th>3</th>\n",
              "      <td>USA_NYT</td>\n",
              "      <td>2020-05-05</td>\n",
              "      <td>United States</td>\n",
              "      <td>USA</td>\n",
              "      <td>Texas</td>\n",
              "      <td>Dallas</td>\n",
              "      <td>None</td>\n",
              "      <td>None</td>\n",
              "      <td>4623</td>\n",
              "      <td>None</td>\n",
              "      <td>121</td>\n",
              "      <td>None</td>\n",
              "      <td>None</td>\n",
              "      <td>None</td>\n",
              "      <td>[USA.44.57_1]</td>\n",
              "    </tr>\n",
              "    <tr>\n",
              "      <th>4</th>\n",
              "      <td>USA_NYT</td>\n",
              "      <td>2020-05-06</td>\n",
              "      <td>United States</td>\n",
              "      <td>USA</td>\n",
              "      <td>Texas</td>\n",
              "      <td>Dallas</td>\n",
              "      <td>None</td>\n",
              "      <td>None</td>\n",
              "      <td>4869</td>\n",
              "      <td>None</td>\n",
              "      <td>123</td>\n",
              "      <td>None</td>\n",
              "      <td>None</td>\n",
              "      <td>None</td>\n",
              "      <td>[USA.44.57_1]</td>\n",
              "    </tr>\n",
              "  </tbody>\n",
              "</table>\n",
              "</div>"
            ],
            "text/plain": [
              "    source        date  ... quarantined            gid\n",
              "0  USA_NYT  2020-05-02  ...        None  [USA.44.57_1]\n",
              "1  USA_NYT  2020-05-03  ...        None  [USA.44.57_1]\n",
              "2  USA_NYT  2020-05-04  ...        None  [USA.44.57_1]\n",
              "3  USA_NYT  2020-05-05  ...        None  [USA.44.57_1]\n",
              "4  USA_NYT  2020-05-06  ...        None  [USA.44.57_1]\n",
              "\n",
              "[5 rows x 15 columns]"
            ]
          },
          "metadata": {},
          "execution_count": 60
        }
      ]
    },
    {
      "cell_type": "code",
      "metadata": {
        "colab": {
          "base_uri": "https://localhost:8080/",
          "height": 589
        },
        "id": "oGBRZIn06i4F",
        "outputId": "f7092bc1-9233-4066-a5bd-f845fbe6eb30"
      },
      "source": [
        "df_epidemiology[(df_epidemiology['adm_area_2']=='Dallas') & (df_epidemiology['date']>datetime.date(year=2020,  month=5,  day=1))]"
      ],
      "execution_count": null,
      "outputs": [
        {
          "output_type": "execute_result",
          "data": {
            "text/html": [
              "<div>\n",
              "<style scoped>\n",
              "    .dataframe tbody tr th:only-of-type {\n",
              "        vertical-align: middle;\n",
              "    }\n",
              "\n",
              "    .dataframe tbody tr th {\n",
              "        vertical-align: top;\n",
              "    }\n",
              "\n",
              "    .dataframe thead th {\n",
              "        text-align: right;\n",
              "    }\n",
              "</style>\n",
              "<table border=\"1\" class=\"dataframe\">\n",
              "  <thead>\n",
              "    <tr style=\"text-align: right;\">\n",
              "      <th></th>\n",
              "      <th>source</th>\n",
              "      <th>date</th>\n",
              "      <th>country</th>\n",
              "      <th>countrycode</th>\n",
              "      <th>adm_area_1</th>\n",
              "      <th>adm_area_2</th>\n",
              "      <th>adm_area_3</th>\n",
              "      <th>tested</th>\n",
              "      <th>confirmed</th>\n",
              "      <th>recovered</th>\n",
              "      <th>dead</th>\n",
              "      <th>hospitalised</th>\n",
              "      <th>hospitalised_icu</th>\n",
              "      <th>quarantined</th>\n",
              "      <th>gid</th>\n",
              "    </tr>\n",
              "  </thead>\n",
              "  <tbody>\n",
              "    <tr>\n",
              "      <th>443</th>\n",
              "      <td>USA_NYT</td>\n",
              "      <td>2020-10-20</td>\n",
              "      <td>United States</td>\n",
              "      <td>USA</td>\n",
              "      <td>Texas</td>\n",
              "      <td>Dallas</td>\n",
              "      <td>None</td>\n",
              "      <td>None</td>\n",
              "      <td>95459</td>\n",
              "      <td>None</td>\n",
              "      <td>1201</td>\n",
              "      <td>None</td>\n",
              "      <td>None</td>\n",
              "      <td>None</td>\n",
              "      <td>[USA.44.57_1]</td>\n",
              "    </tr>\n",
              "    <tr>\n",
              "      <th>1199</th>\n",
              "      <td>USA_NYT</td>\n",
              "      <td>2021-08-31</td>\n",
              "      <td>United States</td>\n",
              "      <td>USA</td>\n",
              "      <td>Texas</td>\n",
              "      <td>Dallas</td>\n",
              "      <td>None</td>\n",
              "      <td>None</td>\n",
              "      <td>348868</td>\n",
              "      <td>None</td>\n",
              "      <td>4390</td>\n",
              "      <td>None</td>\n",
              "      <td>None</td>\n",
              "      <td>None</td>\n",
              "      <td>[USA.44.57_1]</td>\n",
              "    </tr>\n",
              "    <tr>\n",
              "      <th>1249</th>\n",
              "      <td>USA_NYT</td>\n",
              "      <td>2020-11-10</td>\n",
              "      <td>United States</td>\n",
              "      <td>USA</td>\n",
              "      <td>Texas</td>\n",
              "      <td>Dallas</td>\n",
              "      <td>None</td>\n",
              "      <td>None</td>\n",
              "      <td>113004</td>\n",
              "      <td>None</td>\n",
              "      <td>1331</td>\n",
              "      <td>None</td>\n",
              "      <td>None</td>\n",
              "      <td>None</td>\n",
              "      <td>[USA.44.57_1]</td>\n",
              "    </tr>\n",
              "    <tr>\n",
              "      <th>1374</th>\n",
              "      <td>USA_NYT</td>\n",
              "      <td>2020-10-21</td>\n",
              "      <td>United States</td>\n",
              "      <td>USA</td>\n",
              "      <td>Texas</td>\n",
              "      <td>Dallas</td>\n",
              "      <td>None</td>\n",
              "      <td>None</td>\n",
              "      <td>96048</td>\n",
              "      <td>None</td>\n",
              "      <td>1205</td>\n",
              "      <td>None</td>\n",
              "      <td>None</td>\n",
              "      <td>None</td>\n",
              "      <td>[USA.44.57_1]</td>\n",
              "    </tr>\n",
              "    <tr>\n",
              "      <th>1492</th>\n",
              "      <td>USA_NYT</td>\n",
              "      <td>2020-11-03</td>\n",
              "      <td>United States</td>\n",
              "      <td>USA</td>\n",
              "      <td>Texas</td>\n",
              "      <td>Dallas</td>\n",
              "      <td>None</td>\n",
              "      <td>None</td>\n",
              "      <td>105628</td>\n",
              "      <td>None</td>\n",
              "      <td>1277</td>\n",
              "      <td>None</td>\n",
              "      <td>None</td>\n",
              "      <td>None</td>\n",
              "      <td>[USA.44.57_1]</td>\n",
              "    </tr>\n",
              "    <tr>\n",
              "      <th>...</th>\n",
              "      <td>...</td>\n",
              "      <td>...</td>\n",
              "      <td>...</td>\n",
              "      <td>...</td>\n",
              "      <td>...</td>\n",
              "      <td>...</td>\n",
              "      <td>...</td>\n",
              "      <td>...</td>\n",
              "      <td>...</td>\n",
              "      <td>...</td>\n",
              "      <td>...</td>\n",
              "      <td>...</td>\n",
              "      <td>...</td>\n",
              "      <td>...</td>\n",
              "      <td>...</td>\n",
              "    </tr>\n",
              "    <tr>\n",
              "      <th>140520</th>\n",
              "      <td>USA_NYT</td>\n",
              "      <td>2021-09-14</td>\n",
              "      <td>United States</td>\n",
              "      <td>USA</td>\n",
              "      <td>Texas</td>\n",
              "      <td>Dallas</td>\n",
              "      <td>None</td>\n",
              "      <td>None</td>\n",
              "      <td>367771</td>\n",
              "      <td>None</td>\n",
              "      <td>4574</td>\n",
              "      <td>None</td>\n",
              "      <td>None</td>\n",
              "      <td>None</td>\n",
              "      <td>[USA.44.57_1]</td>\n",
              "    </tr>\n",
              "    <tr>\n",
              "      <th>140683</th>\n",
              "      <td>USA_NYT</td>\n",
              "      <td>2021-02-08</td>\n",
              "      <td>United States</td>\n",
              "      <td>USA</td>\n",
              "      <td>Texas</td>\n",
              "      <td>Dallas</td>\n",
              "      <td>None</td>\n",
              "      <td>None</td>\n",
              "      <td>268262</td>\n",
              "      <td>None</td>\n",
              "      <td>3019</td>\n",
              "      <td>None</td>\n",
              "      <td>None</td>\n",
              "      <td>None</td>\n",
              "      <td>[USA.44.57_1]</td>\n",
              "    </tr>\n",
              "    <tr>\n",
              "      <th>140745</th>\n",
              "      <td>USA_NYT</td>\n",
              "      <td>2021-10-15</td>\n",
              "      <td>United States</td>\n",
              "      <td>USA</td>\n",
              "      <td>Texas</td>\n",
              "      <td>Dallas</td>\n",
              "      <td>None</td>\n",
              "      <td>None</td>\n",
              "      <td>398157</td>\n",
              "      <td>None</td>\n",
              "      <td>5137</td>\n",
              "      <td>None</td>\n",
              "      <td>None</td>\n",
              "      <td>None</td>\n",
              "      <td>[USA.44.57_1]</td>\n",
              "    </tr>\n",
              "    <tr>\n",
              "      <th>141049</th>\n",
              "      <td>USA_NYT</td>\n",
              "      <td>2020-05-06</td>\n",
              "      <td>United States</td>\n",
              "      <td>USA</td>\n",
              "      <td>Texas</td>\n",
              "      <td>Dallas</td>\n",
              "      <td>None</td>\n",
              "      <td>None</td>\n",
              "      <td>4869</td>\n",
              "      <td>None</td>\n",
              "      <td>123</td>\n",
              "      <td>None</td>\n",
              "      <td>None</td>\n",
              "      <td>None</td>\n",
              "      <td>[USA.44.57_1]</td>\n",
              "    </tr>\n",
              "    <tr>\n",
              "      <th>141909</th>\n",
              "      <td>USA_NYT</td>\n",
              "      <td>2020-07-15</td>\n",
              "      <td>United States</td>\n",
              "      <td>USA</td>\n",
              "      <td>Texas</td>\n",
              "      <td>Dallas</td>\n",
              "      <td>None</td>\n",
              "      <td>None</td>\n",
              "      <td>36969</td>\n",
              "      <td>None</td>\n",
              "      <td>485</td>\n",
              "      <td>None</td>\n",
              "      <td>None</td>\n",
              "      <td>None</td>\n",
              "      <td>[USA.44.57_1]</td>\n",
              "    </tr>\n",
              "  </tbody>\n",
              "</table>\n",
              "<p>537 rows × 15 columns</p>\n",
              "</div>"
            ],
            "text/plain": [
              "         source        date  ... quarantined            gid\n",
              "443     USA_NYT  2020-10-20  ...        None  [USA.44.57_1]\n",
              "1199    USA_NYT  2021-08-31  ...        None  [USA.44.57_1]\n",
              "1249    USA_NYT  2020-11-10  ...        None  [USA.44.57_1]\n",
              "1374    USA_NYT  2020-10-21  ...        None  [USA.44.57_1]\n",
              "1492    USA_NYT  2020-11-03  ...        None  [USA.44.57_1]\n",
              "...         ...         ...  ...         ...            ...\n",
              "140520  USA_NYT  2021-09-14  ...        None  [USA.44.57_1]\n",
              "140683  USA_NYT  2021-02-08  ...        None  [USA.44.57_1]\n",
              "140745  USA_NYT  2021-10-15  ...        None  [USA.44.57_1]\n",
              "141049  USA_NYT  2020-05-06  ...        None  [USA.44.57_1]\n",
              "141909  USA_NYT  2020-07-15  ...        None  [USA.44.57_1]\n",
              "\n",
              "[537 rows x 15 columns]"
            ]
          },
          "metadata": {},
          "execution_count": 52
        }
      ]
    },
    {
      "cell_type": "code",
      "metadata": {
        "colab": {
          "base_uri": "https://localhost:8080/"
        },
        "id": "i4zBOSP_A3BN",
        "outputId": "4472d2c8-dfcc-4359-ac02-f9bc864d25a3"
      },
      "source": [
        "df_epidemiology.shape"
      ],
      "execution_count": null,
      "outputs": [
        {
          "output_type": "execute_result",
          "data": {
            "text/plain": [
              "(142044, 15)"
            ]
          },
          "metadata": {},
          "execution_count": 3
        }
      ]
    },
    {
      "cell_type": "code",
      "metadata": {
        "colab": {
          "base_uri": "https://localhost:8080/"
        },
        "id": "62qcApBBA-i1",
        "outputId": "1e6e2615-7111-4770-c6fe-faaf9fc1484d"
      },
      "source": [
        "print(df_epidemiology['adm_area_2'].nunique())\n",
        "df_epidemiology['adm_area_2'].unique()"
      ],
      "execution_count": null,
      "outputs": [
        {
          "output_type": "stream",
          "name": "stdout",
          "text": [
            "254\n"
          ]
        },
        {
          "output_type": "execute_result",
          "data": {
            "text/plain": [
              "array(['Floyd', 'Montague', 'Montgomery', 'Moore', 'Morris', 'Motley',\n",
              "       'Fisher', 'Franklin', 'Pecos', 'Polk', 'Potter', 'Randall',\n",
              "       'Presidio', 'Rains', 'San Jacinto', 'San Patricio', 'San Saba',\n",
              "       'Rusk', 'Sabine', 'San Augustine', 'Frio', 'Gonzales', 'Swisher',\n",
              "       'Tarrant', 'Taylor', 'Terrell', 'Terry', 'Throckmorton', 'Goliad',\n",
              "       'Ward', 'Washington', 'Webb', 'Wharton', 'Wheeler', 'Wichita',\n",
              "       'Wilbarger', 'Waller', 'Grimes', 'Guadalupe', 'Zapata', 'Zavala',\n",
              "       'Hartley', 'Haskell', 'Hays', 'Hill', 'Dickens', 'Dimmit', 'Duval',\n",
              "       'Edwards', 'El Paso', 'Ellis', 'Foard', 'Howard', 'Irion', 'Garza',\n",
              "       'Gillespie', 'Gray', 'Harrison', 'Jack', 'Hemphill', 'Henderson',\n",
              "       'Titus', 'Tyler', 'Uvalde', 'Val Verde', 'Van Zandt', 'Walker',\n",
              "       'Jasper', 'Jones', 'Kaufman', 'Winkler', 'Wise', 'Young',\n",
              "       'Kendall', 'Kenedy', 'Kerr', 'King', 'Kinney', 'Kleberg', 'Lamar',\n",
              "       'Lamb', 'Lampasas', 'Lavaca', 'Leon', 'Lee', 'Lipscomb',\n",
              "       'Live Oak', 'Lubbock', 'Lynn', 'Madison', 'Marion', 'Matagorda',\n",
              "       'Medina', 'Midland', 'Mills', 'Mitchell', 'Newton', 'Nueces',\n",
              "       'Ochiltree', 'Panola', 'Reagan', 'Real', 'Refugio', 'Roberts',\n",
              "       'Robertson', 'Runnels', 'Rockwall', 'Llano', 'Scurry', 'Shelby',\n",
              "       'Starr', 'Sterling', 'Sutton', 'Upshur', 'Victoria', 'Willacy',\n",
              "       'Williamson', 'Andrews', 'Austin', 'Bexar', 'Castro', 'Colorado',\n",
              "       'Comal', 'Cameron', 'Loving', 'Culberson', 'Crockett', 'Johnson',\n",
              "       'Kent', 'Donley', 'Deaf Smith', 'Delta', 'Denton', 'Eastland',\n",
              "       'Fannin', 'Gregg', 'Hardeman', 'Hardin', 'Hidalgo', 'Jim Wells',\n",
              "       'Karnes', 'Knox', 'Kimble', 'Liberty', 'Limestone', 'Martin',\n",
              "       'Mason', 'Maverick', 'McCulloch', 'Milam', 'Collingsworth',\n",
              "       'Comanche', 'Wilson', 'Orange', 'Parmer', 'Reeves', 'Archer',\n",
              "       'Bosque', 'Blanco', 'Bowie', 'Burleson', 'Briscoe', 'Brooks',\n",
              "       'Brown', 'Concho', 'Cooke', 'Coryell', 'Grayson', 'Erath', 'Falls',\n",
              "       'Jim Hogg', 'Hall', 'Hamilton', 'Hansford', 'Coleman',\n",
              "       'Schleicher', 'Shackelford', 'Stephens', 'Tom Green',\n",
              "       'Nacogdoches', 'Navarro', 'Palo Pinto', 'Upton', 'Red River',\n",
              "       'Wood', None, 'Bailey', 'Bandera', 'Borden', 'Burnet', 'Calhoun',\n",
              "       'Callahan', 'Camp', 'Carson', 'Cherokee', 'Menard', 'Nolan',\n",
              "       'Parker', 'Brazoria', 'Brazos', 'Freestone', 'Childress',\n",
              "       'Aransas', 'Gaines', 'Galveston', 'Angelina', 'Armstrong',\n",
              "       'Atascosa', 'Bee', 'Bastrop', 'Brewster', 'Chambers', 'Clay',\n",
              "       'Cochran', 'Coke', 'Cottle', 'Crane', 'Smith', 'Somervell',\n",
              "       'Dallam', 'Crosby', 'Dawson', 'Dallas', 'Dewitt', 'Ector',\n",
              "       'Caldwell', 'Fort Bend', 'Fayette', 'Hockley', 'Houston',\n",
              "       'Hudspeth', 'Jefferson', 'Hale', 'Hood', 'Hunt', 'Jackson',\n",
              "       'Baylor', 'Trinity', 'Yoakum', 'Collin', 'Hutchinson',\n",
              "       'Jeff Davis', 'McLennan', 'McMullen', 'Harris', 'Anderson',\n",
              "       'Hopkins', 'Sherman', 'Bell', 'Cass', 'Stonewall', 'Glasscock',\n",
              "       'La Salle', 'Oldham', 'Travis'], dtype=object)"
            ]
          },
          "metadata": {},
          "execution_count": 4
        }
      ]
    },
    {
      "cell_type": "code",
      "metadata": {
        "id": "gP1PfLH6yAmU"
      },
      "source": [
        "county = ['Dallas', 'Tarrant', 'Harris', 'Bexar', 'Travis']\n",
        "start_date = datetime.date(year=2020,  month=5,  day=1)\n",
        "agg_confirmed = {}\n",
        "for item in county:\n",
        "    agg_confirmed[item] = [item,  df_epidemiology.loc[(df_epidemiology['adm_area_2'] == item) & (df_epidemiology['date'] < start_date), 'confirmed'].sum(), df_epidemiology.loc[(df_epidemiology['adm_area_2'] == item) & (df_epidemiology['date'] > start_date), 'confirmed'].sum()]"
      ],
      "execution_count": 3,
      "outputs": []
    },
    {
      "cell_type": "code",
      "metadata": {
        "colab": {
          "base_uri": "https://localhost:8080/"
        },
        "id": "s3Sylbqw0EO5",
        "outputId": "4458fb22-70b7-4034-cb50-2f3193102e0e"
      },
      "source": [
        "agg_confirmed"
      ],
      "execution_count": null,
      "outputs": [
        {
          "output_type": "execute_result",
          "data": {
            "text/plain": [
              "{'Bexar': ['Bexar', 27161, 77551405],\n",
              " 'Dallas': ['Dallas', 65598, 107731140],\n",
              " 'Harris': ['Harris', 120489, 145128725],\n",
              " 'Tarrant': ['Tarrant', 34249, 89256628],\n",
              " 'Travis': ['Travis', 29943, 30840918]}"
            ]
          },
          "metadata": {},
          "execution_count": 36
        }
      ]
    },
    {
      "cell_type": "code",
      "metadata": {
        "colab": {
          "base_uri": "https://localhost:8080/",
          "height": 204
        },
        "id": "iVRbNbBJ1Mcq",
        "outputId": "3b6f634b-c0f3-4a97-d3d8-80cb0fdfdf5c"
      },
      "source": [
        "catplot_data = pd.DataFrame.from_dict(agg_confirmed, orient='index', columns=['county', 'before', 'after'])\n",
        "catplot_data"
      ],
      "execution_count": null,
      "outputs": [
        {
          "output_type": "execute_result",
          "data": {
            "text/html": [
              "<div>\n",
              "<style scoped>\n",
              "    .dataframe tbody tr th:only-of-type {\n",
              "        vertical-align: middle;\n",
              "    }\n",
              "\n",
              "    .dataframe tbody tr th {\n",
              "        vertical-align: top;\n",
              "    }\n",
              "\n",
              "    .dataframe thead th {\n",
              "        text-align: right;\n",
              "    }\n",
              "</style>\n",
              "<table border=\"1\" class=\"dataframe\">\n",
              "  <thead>\n",
              "    <tr style=\"text-align: right;\">\n",
              "      <th></th>\n",
              "      <th>county</th>\n",
              "      <th>before</th>\n",
              "      <th>after</th>\n",
              "    </tr>\n",
              "  </thead>\n",
              "  <tbody>\n",
              "    <tr>\n",
              "      <th>Dallas</th>\n",
              "      <td>Dallas</td>\n",
              "      <td>65598</td>\n",
              "      <td>107731140</td>\n",
              "    </tr>\n",
              "    <tr>\n",
              "      <th>Tarrant</th>\n",
              "      <td>Tarrant</td>\n",
              "      <td>34249</td>\n",
              "      <td>89256628</td>\n",
              "    </tr>\n",
              "    <tr>\n",
              "      <th>Harris</th>\n",
              "      <td>Harris</td>\n",
              "      <td>120489</td>\n",
              "      <td>145128725</td>\n",
              "    </tr>\n",
              "    <tr>\n",
              "      <th>Bexar</th>\n",
              "      <td>Bexar</td>\n",
              "      <td>27161</td>\n",
              "      <td>77551405</td>\n",
              "    </tr>\n",
              "    <tr>\n",
              "      <th>Travis</th>\n",
              "      <td>Travis</td>\n",
              "      <td>29943</td>\n",
              "      <td>30840918</td>\n",
              "    </tr>\n",
              "  </tbody>\n",
              "</table>\n",
              "</div>"
            ],
            "text/plain": [
              "          county  before      after\n",
              "Dallas    Dallas   65598  107731140\n",
              "Tarrant  Tarrant   34249   89256628\n",
              "Harris    Harris  120489  145128725\n",
              "Bexar      Bexar   27161   77551405\n",
              "Travis    Travis   29943   30840918"
            ]
          },
          "metadata": {},
          "execution_count": 37
        }
      ]
    },
    {
      "cell_type": "code",
      "metadata": {
        "colab": {
          "base_uri": "https://localhost:8080/",
          "height": 387
        },
        "id": "vlEQjRWl3DY3",
        "outputId": "cd67861d-71e1-471d-ec7c-5b02950b4f05"
      },
      "source": [
        "sns.catplot(data = catplot_data, x = 'county', y = 'before', kind=\"bar\")"
      ],
      "execution_count": null,
      "outputs": [
        {
          "output_type": "execute_result",
          "data": {
            "text/plain": [
              "<seaborn.axisgrid.FacetGrid at 0x7f8834b78bd0>"
            ]
          },
          "metadata": {},
          "execution_count": 43
        },
        {
          "output_type": "display_data",
          "data": {
            "image/png": "[encoded data removed]",
            "text/plain": [
              "<Figure size 360x360 with 1 Axes>"
            ]
          },
          "metadata": {
            "needs_background": "light"
          }
        }
      ]
    },
    {
      "cell_type": "code",
      "metadata": {
        "colab": {
          "base_uri": "https://localhost:8080/",
          "height": 387
        },
        "id": "MKtO1AJJ6Eu8",
        "outputId": "8eaf24db-6c1d-4a9a-88ae-c603521b3e35"
      },
      "source": [
        "sns.catplot(data = catplot_data, x = 'county', y = 'after', kind=\"bar\")"
      ],
      "execution_count": null,
      "outputs": [
        {
          "output_type": "execute_result",
          "data": {
            "text/plain": [
              "<seaborn.axisgrid.FacetGrid at 0x7f8834ac93d0>"
            ]
          },
          "metadata": {},
          "execution_count": 44
        },
        {
          "output_type": "display_data",
          "data": {
            "image/png": "[encoded data removed]",
            "text/plain": [
              "<Figure size 360x360 with 1 Axes>"
            ]
          },
          "metadata": {
            "needs_background": "light"
          }
        }
      ]
    },
    {
      "cell_type": "code",
      "metadata": {
        "colab": {
          "base_uri": "https://localhost:8080/",
          "height": 204
        },
        "id": "Vq1T668vHckl",
        "outputId": "9f2c5d33-531e-4031-abd2-c4702e01c7b4"
      },
      "source": [
        "df_epidemiology_adm2_confirmed = df_epidemiology[['date',  'adm_area_1', 'adm_area_2', 'confirmed']]\n",
        "df_epidemiology_adm2_confirmed.head()"
      ],
      "execution_count": null,
      "outputs": [
        {
          "output_type": "execute_result",
          "data": {
            "text/html": [
              "<div>\n",
              "<style scoped>\n",
              "    .dataframe tbody tr th:only-of-type {\n",
              "        vertical-align: middle;\n",
              "    }\n",
              "\n",
              "    .dataframe tbody tr th {\n",
              "        vertical-align: top;\n",
              "    }\n",
              "\n",
              "    .dataframe thead th {\n",
              "        text-align: right;\n",
              "    }\n",
              "</style>\n",
              "<table border=\"1\" class=\"dataframe\">\n",
              "  <thead>\n",
              "    <tr style=\"text-align: right;\">\n",
              "      <th></th>\n",
              "      <th>date</th>\n",
              "      <th>adm_area_1</th>\n",
              "      <th>adm_area_2</th>\n",
              "      <th>confirmed</th>\n",
              "    </tr>\n",
              "  </thead>\n",
              "  <tbody>\n",
              "    <tr>\n",
              "      <th>0</th>\n",
              "      <td>2021-07-04</td>\n",
              "      <td>Texas</td>\n",
              "      <td>Tarrant</td>\n",
              "      <td>263690</td>\n",
              "    </tr>\n",
              "    <tr>\n",
              "      <th>1</th>\n",
              "      <td>2021-07-04</td>\n",
              "      <td>Texas</td>\n",
              "      <td>Taylor</td>\n",
              "      <td>16047</td>\n",
              "    </tr>\n",
              "    <tr>\n",
              "      <th>2</th>\n",
              "      <td>2021-07-04</td>\n",
              "      <td>Texas</td>\n",
              "      <td>Terry</td>\n",
              "      <td>1702</td>\n",
              "    </tr>\n",
              "    <tr>\n",
              "      <th>3</th>\n",
              "      <td>2021-07-04</td>\n",
              "      <td>Texas</td>\n",
              "      <td>Throckmorton</td>\n",
              "      <td>73</td>\n",
              "    </tr>\n",
              "    <tr>\n",
              "      <th>4</th>\n",
              "      <td>2021-07-04</td>\n",
              "      <td>Texas</td>\n",
              "      <td>Titus</td>\n",
              "      <td>4229</td>\n",
              "    </tr>\n",
              "  </tbody>\n",
              "</table>\n",
              "</div>"
            ],
            "text/plain": [
              "         date adm_area_1    adm_area_2  confirmed\n",
              "0  2021-07-04      Texas       Tarrant     263690\n",
              "1  2021-07-04      Texas        Taylor      16047\n",
              "2  2021-07-04      Texas         Terry       1702\n",
              "3  2021-07-04      Texas  Throckmorton         73\n",
              "4  2021-07-04      Texas         Titus       4229"
            ]
          },
          "metadata": {},
          "execution_count": 6
        }
      ]
    },
    {
      "cell_type": "code",
      "metadata": {
        "id": "xNnLAn19CZko"
      },
      "source": [
        "start_date = datetime.date(year=2020,  month=5,  day=1)\n",
        "agg_confirmed_before = {}\n",
        "agg_confirmed_after = {}\n",
        "for item in df_epidemiology['adm_area_2'].unique():\n",
        "    agg_confirmed_before[item] = df_epidemiology.loc[(df_epidemiology['adm_area_2'] == item) & (df_epidemiology['date'] < start_date), 'confirmed'].sum()\n",
        "    agg_confirmed_after[item] = df_epidemiology.loc[(df_epidemiology['adm_area_2'] == item) & (df_epidemiology['date'] > start_date), 'confirmed'].sum()"
      ],
      "execution_count": null,
      "outputs": []
    },
    {
      "cell_type": "code",
      "metadata": {
        "colab": {
          "base_uri": "https://localhost:8080/",
          "height": 309
        },
        "id": "3l6CeA9XMiRy",
        "outputId": "53e3019e-33fe-4e62-9c88-6fdd3b3d971c"
      },
      "source": [
        "sql_command = \"\"\"SELECT * FROM mobility ORDER by date DESC\"\"\"\n",
        "df_epidemiology = pd.read_sql(sql_command, conn)\n",
        "df_epidemiology.head(5)"
      ],
      "execution_count": null,
      "outputs": [
        {
          "output_type": "execute_result",
          "data": {
            "text/html": [
              "<div>\n",
              "<style scoped>\n",
              "    .dataframe tbody tr th:only-of-type {\n",
              "        vertical-align: middle;\n",
              "    }\n",
              "\n",
              "    .dataframe tbody tr th {\n",
              "        vertical-align: top;\n",
              "    }\n",
              "\n",
              "    .dataframe thead th {\n",
              "        text-align: right;\n",
              "    }\n",
              "</style>\n",
              "<table border=\"1\" class=\"dataframe\">\n",
              "  <thead>\n",
              "    <tr style=\"text-align: right;\">\n",
              "      <th></th>\n",
              "      <th>source</th>\n",
              "      <th>date</th>\n",
              "      <th>country</th>\n",
              "      <th>countrycode</th>\n",
              "      <th>adm_area_1</th>\n",
              "      <th>adm_area_2</th>\n",
              "      <th>adm_area_3</th>\n",
              "      <th>transit_stations</th>\n",
              "      <th>residential</th>\n",
              "      <th>workplace</th>\n",
              "      <th>parks</th>\n",
              "      <th>retail_recreation</th>\n",
              "      <th>grocery_pharmacy</th>\n",
              "      <th>gid</th>\n",
              "      <th>transit</th>\n",
              "      <th>walking</th>\n",
              "      <th>driving</th>\n",
              "    </tr>\n",
              "  </thead>\n",
              "  <tbody>\n",
              "    <tr>\n",
              "      <th>0</th>\n",
              "      <td>APPLE_MOBILITY</td>\n",
              "      <td>2021-10-20</td>\n",
              "      <td>United States</td>\n",
              "      <td>USA</td>\n",
              "      <td>Indiana</td>\n",
              "      <td>Shelby</td>\n",
              "      <td>None</td>\n",
              "      <td>NaN</td>\n",
              "      <td>NaN</td>\n",
              "      <td>NaN</td>\n",
              "      <td>NaN</td>\n",
              "      <td>NaN</td>\n",
              "      <td>NaN</td>\n",
              "      <td>[USA.15.74_1]</td>\n",
              "      <td>None</td>\n",
              "      <td>None</td>\n",
              "      <td>180.08</td>\n",
              "    </tr>\n",
              "    <tr>\n",
              "      <th>1</th>\n",
              "      <td>APPLE_MOBILITY</td>\n",
              "      <td>2021-10-20</td>\n",
              "      <td>United States</td>\n",
              "      <td>USA</td>\n",
              "      <td>Texas</td>\n",
              "      <td>Hunt</td>\n",
              "      <td>None</td>\n",
              "      <td>NaN</td>\n",
              "      <td>NaN</td>\n",
              "      <td>NaN</td>\n",
              "      <td>NaN</td>\n",
              "      <td>NaN</td>\n",
              "      <td>NaN</td>\n",
              "      <td>[USA.44.116_1]</td>\n",
              "      <td>None</td>\n",
              "      <td>None</td>\n",
              "      <td>173.93</td>\n",
              "    </tr>\n",
              "    <tr>\n",
              "      <th>2</th>\n",
              "      <td>APPLE_MOBILITY</td>\n",
              "      <td>2021-10-20</td>\n",
              "      <td>United States</td>\n",
              "      <td>USA</td>\n",
              "      <td>Ohio</td>\n",
              "      <td>Shelby</td>\n",
              "      <td>None</td>\n",
              "      <td>NaN</td>\n",
              "      <td>NaN</td>\n",
              "      <td>NaN</td>\n",
              "      <td>NaN</td>\n",
              "      <td>NaN</td>\n",
              "      <td>NaN</td>\n",
              "      <td>[USA.36.76_1]</td>\n",
              "      <td>None</td>\n",
              "      <td>None</td>\n",
              "      <td>143.97</td>\n",
              "    </tr>\n",
              "    <tr>\n",
              "      <th>3</th>\n",
              "      <td>APPLE_MOBILITY</td>\n",
              "      <td>2021-10-20</td>\n",
              "      <td>United States</td>\n",
              "      <td>USA</td>\n",
              "      <td>New Jersey</td>\n",
              "      <td>Hunterdon</td>\n",
              "      <td>None</td>\n",
              "      <td>NaN</td>\n",
              "      <td>NaN</td>\n",
              "      <td>NaN</td>\n",
              "      <td>NaN</td>\n",
              "      <td>NaN</td>\n",
              "      <td>NaN</td>\n",
              "      <td>[USA.31.10_1]</td>\n",
              "      <td>None</td>\n",
              "      <td>None</td>\n",
              "      <td>142.11</td>\n",
              "    </tr>\n",
              "    <tr>\n",
              "      <th>4</th>\n",
              "      <td>APPLE_MOBILITY</td>\n",
              "      <td>2021-10-20</td>\n",
              "      <td>United States</td>\n",
              "      <td>USA</td>\n",
              "      <td>Pennsylvania</td>\n",
              "      <td>Huntingdon</td>\n",
              "      <td>None</td>\n",
              "      <td>NaN</td>\n",
              "      <td>NaN</td>\n",
              "      <td>NaN</td>\n",
              "      <td>NaN</td>\n",
              "      <td>NaN</td>\n",
              "      <td>NaN</td>\n",
              "      <td>[USA.39.31_1]</td>\n",
              "      <td>None</td>\n",
              "      <td>None</td>\n",
              "      <td>176.62</td>\n",
              "    </tr>\n",
              "  </tbody>\n",
              "</table>\n",
              "</div>"
            ],
            "text/plain": [
              "           source        date        country  ... transit walking driving\n",
              "0  APPLE_MOBILITY  2021-10-20  United States  ...    None    None  180.08\n",
              "1  APPLE_MOBILITY  2021-10-20  United States  ...    None    None  173.93\n",
              "2  APPLE_MOBILITY  2021-10-20  United States  ...    None    None  143.97\n",
              "3  APPLE_MOBILITY  2021-10-20  United States  ...    None    None  142.11\n",
              "4  APPLE_MOBILITY  2021-10-20  United States  ...    None    None  176.62\n",
              "\n",
              "[5 rows x 17 columns]"
            ]
          },
          "metadata": {},
          "execution_count": 8
        }
      ]
    },
    {
      "cell_type": "code",
      "metadata": {
        "id": "wo1wrO5mNDIQ"
      },
      "source": [
        "sql_command = \"\"\"SELECT epidemiology.date, epidemiology.adm_area_1, epidemiology.adm_area_2, epidemiology.confirmed, mobility.driving\n",
        "FROM epidemiology\n",
        "INNER JOIN mobility ON epidemiology.country=mobility.country\n",
        "WHERE epidemiology.source = 'USA_NYT' and epidemiology.adm_area_1 = 'Texas' and epidemiology.country = 'United States' and epidemiology.adm_area_1 = 'Texas'\"\"\"\n",
        "df_join = pd.read_sql(sql_command, conn)\n",
        "df_join.head()"
      ],
      "execution_count": null,
      "outputs": []
    },
    {
      "cell_type": "code",
      "metadata": {
        "colab": {
          "base_uri": "https://localhost:8080/",
          "height": 309
        },
        "id": "hVeRL5bqR8FP",
        "outputId": "f344bebd-2a9d-4da2-eab4-2aad37b57c9c"
      },
      "source": [
        "sql_command = \"\"\"SELECT * FROM mobility WHERE country = 'United States' and adm_area_1 = 'Texas'\"\"\"\n",
        "df_mobility = pd.read_sql(sql_command, conn)\n",
        "df_mobility.head()"
      ],
      "execution_count": null,
      "outputs": [
        {
          "output_type": "execute_result",
          "data": {
            "text/html": [
              "<div>\n",
              "<style scoped>\n",
              "    .dataframe tbody tr th:only-of-type {\n",
              "        vertical-align: middle;\n",
              "    }\n",
              "\n",
              "    .dataframe tbody tr th {\n",
              "        vertical-align: top;\n",
              "    }\n",
              "\n",
              "    .dataframe thead th {\n",
              "        text-align: right;\n",
              "    }\n",
              "</style>\n",
              "<table border=\"1\" class=\"dataframe\">\n",
              "  <thead>\n",
              "    <tr style=\"text-align: right;\">\n",
              "      <th></th>\n",
              "      <th>source</th>\n",
              "      <th>date</th>\n",
              "      <th>country</th>\n",
              "      <th>countrycode</th>\n",
              "      <th>adm_area_1</th>\n",
              "      <th>adm_area_2</th>\n",
              "      <th>adm_area_3</th>\n",
              "      <th>transit_stations</th>\n",
              "      <th>residential</th>\n",
              "      <th>workplace</th>\n",
              "      <th>parks</th>\n",
              "      <th>retail_recreation</th>\n",
              "      <th>grocery_pharmacy</th>\n",
              "      <th>gid</th>\n",
              "      <th>transit</th>\n",
              "      <th>walking</th>\n",
              "      <th>driving</th>\n",
              "    </tr>\n",
              "  </thead>\n",
              "  <tbody>\n",
              "    <tr>\n",
              "      <th>0</th>\n",
              "      <td>APPLE_MOBILITY</td>\n",
              "      <td>2021-01-19</td>\n",
              "      <td>United States</td>\n",
              "      <td>USA</td>\n",
              "      <td>Texas</td>\n",
              "      <td>Bexar</td>\n",
              "      <td>None</td>\n",
              "      <td>NaN</td>\n",
              "      <td>NaN</td>\n",
              "      <td>NaN</td>\n",
              "      <td>NaN</td>\n",
              "      <td>NaN</td>\n",
              "      <td>NaN</td>\n",
              "      <td>[USA.44.15_1]</td>\n",
              "      <td>None</td>\n",
              "      <td>None</td>\n",
              "      <td>96.21</td>\n",
              "    </tr>\n",
              "    <tr>\n",
              "      <th>1</th>\n",
              "      <td>GOOGLE_MOBILITY</td>\n",
              "      <td>2020-11-05</td>\n",
              "      <td>United States</td>\n",
              "      <td>USA</td>\n",
              "      <td>Texas</td>\n",
              "      <td>Kendall</td>\n",
              "      <td>None</td>\n",
              "      <td>-7.0</td>\n",
              "      <td>9.0</td>\n",
              "      <td>-23.0</td>\n",
              "      <td>NaN</td>\n",
              "      <td>-14.0</td>\n",
              "      <td>-18.0</td>\n",
              "      <td>[USA.44.130_1]</td>\n",
              "      <td>None</td>\n",
              "      <td>None</td>\n",
              "      <td>NaN</td>\n",
              "    </tr>\n",
              "    <tr>\n",
              "      <th>2</th>\n",
              "      <td>GOOGLE_MOBILITY</td>\n",
              "      <td>2020-05-03</td>\n",
              "      <td>United States</td>\n",
              "      <td>USA</td>\n",
              "      <td>Texas</td>\n",
              "      <td>Kerr</td>\n",
              "      <td>None</td>\n",
              "      <td>NaN</td>\n",
              "      <td>NaN</td>\n",
              "      <td>-23.0</td>\n",
              "      <td>30.0</td>\n",
              "      <td>-10.0</td>\n",
              "      <td>-16.0</td>\n",
              "      <td>[USA.44.133_1]</td>\n",
              "      <td>None</td>\n",
              "      <td>None</td>\n",
              "      <td>NaN</td>\n",
              "    </tr>\n",
              "    <tr>\n",
              "      <th>3</th>\n",
              "      <td>APPLE_MOBILITY</td>\n",
              "      <td>2021-01-18</td>\n",
              "      <td>United States</td>\n",
              "      <td>USA</td>\n",
              "      <td>Texas</td>\n",
              "      <td>Bexar</td>\n",
              "      <td>None</td>\n",
              "      <td>NaN</td>\n",
              "      <td>NaN</td>\n",
              "      <td>NaN</td>\n",
              "      <td>NaN</td>\n",
              "      <td>NaN</td>\n",
              "      <td>NaN</td>\n",
              "      <td>[USA.44.15_1]</td>\n",
              "      <td>None</td>\n",
              "      <td>None</td>\n",
              "      <td>101.22</td>\n",
              "    </tr>\n",
              "    <tr>\n",
              "      <th>4</th>\n",
              "      <td>GOOGLE_MOBILITY</td>\n",
              "      <td>2020-04-17</td>\n",
              "      <td>United States</td>\n",
              "      <td>USA</td>\n",
              "      <td>Texas</td>\n",
              "      <td>Kerr</td>\n",
              "      <td>None</td>\n",
              "      <td>NaN</td>\n",
              "      <td>16.0</td>\n",
              "      <td>-30.0</td>\n",
              "      <td>-8.0</td>\n",
              "      <td>-32.0</td>\n",
              "      <td>-14.0</td>\n",
              "      <td>[USA.44.133_1]</td>\n",
              "      <td>None</td>\n",
              "      <td>None</td>\n",
              "      <td>NaN</td>\n",
              "    </tr>\n",
              "  </tbody>\n",
              "</table>\n",
              "</div>"
            ],
            "text/plain": [
              "            source        date        country  ... transit walking driving\n",
              "0   APPLE_MOBILITY  2021-01-19  United States  ...    None    None   96.21\n",
              "1  GOOGLE_MOBILITY  2020-11-05  United States  ...    None    None     NaN\n",
              "2  GOOGLE_MOBILITY  2020-05-03  United States  ...    None    None     NaN\n",
              "3   APPLE_MOBILITY  2021-01-18  United States  ...    None    None  101.22\n",
              "4  GOOGLE_MOBILITY  2020-04-17  United States  ...    None    None     NaN\n",
              "\n",
              "[5 rows x 17 columns]"
            ]
          },
          "metadata": {},
          "execution_count": 3
        }
      ]
    },
    {
      "cell_type": "code",
      "metadata": {
        "id": "qX6jp6FFK1zV"
      },
      "source": [
        "county = ['Dallas', 'Tarrant', 'Harris', 'Bexar', 'Travis']\n",
        "start_date = datetime.date(year=2020,  month=5,  day=1)\n",
        "county_1 = []\n",
        "agg_confirmed = []\n",
        "before_after = []\n",
        "for item in county:\n",
        "    county_1.append(item)\n",
        "    agg_confirmed.append(df_epidemiology.loc[(df_epidemiology['adm_area_2'] == item) & (df_epidemiology['date'] < start_date), 'confirmed'].sum())\n",
        "    before_after.append('before')\n",
        "for item in county:\n",
        "    county_1.append(item)\n",
        "    agg_confirmed.append(df_epidemiology.loc[(df_epidemiology['adm_area_2'] == item) & (df_epidemiology['date'] > start_date), 'confirmed'].sum())\n",
        "    before_after.append('after')\n"
      ],
      "execution_count": 5,
      "outputs": []
    },
    {
      "cell_type": "code",
      "metadata": {
        "id": "iDnlDEDEMGqz",
        "outputId": "168c9db0-9c85-44f6-c800-963b6995bc70",
        "colab": {
          "base_uri": "https://localhost:8080/"
        }
      },
      "source": [
        "print(county_1, agg_confirmed, before_after)"
      ],
      "execution_count": 6,
      "outputs": [
        {
          "output_type": "stream",
          "name": "stdout",
          "text": [
            "['Dallas', 'Tarrant', 'Harris', 'Bexar', 'Travis', 'Dallas', 'Tarrant', 'Harris', 'Bexar', 'Travis'] [65598, 34249, 120489, 27161, 29943, 108132145, 89615363, 145700552, 77870366, 30959589] ['before', 'before', 'before', 'before', 'before', 'after', 'after', 'after', 'after', 'after']\n"
          ]
        }
      ]
    },
    {
      "cell_type": "code",
      "metadata": {
        "id": "igedUxoOMSVD",
        "outputId": "4d018b69-a334-4e7f-f369-25105bb3524e",
        "colab": {
          "base_uri": "https://localhost:8080/",
          "height": 359
        }
      },
      "source": [
        "df_barplot = pd.DataFrame(list(zip(county_1, agg_confirmed, before_after)), columns =['County', 'Sum', 'Threshold'])\n",
        "df_barplot"
      ],
      "execution_count": 11,
      "outputs": [
        {
          "output_type": "execute_result",
          "data": {
            "text/html": [
              "<div>\n",
              "<style scoped>\n",
              "    .dataframe tbody tr th:only-of-type {\n",
              "        vertical-align: middle;\n",
              "    }\n",
              "\n",
              "    .dataframe tbody tr th {\n",
              "        vertical-align: top;\n",
              "    }\n",
              "\n",
              "    .dataframe thead th {\n",
              "        text-align: right;\n",
              "    }\n",
              "</style>\n",
              "<table border=\"1\" class=\"dataframe\">\n",
              "  <thead>\n",
              "    <tr style=\"text-align: right;\">\n",
              "      <th></th>\n",
              "      <th>County</th>\n",
              "      <th>Sum</th>\n",
              "      <th>Threshold</th>\n",
              "    </tr>\n",
              "  </thead>\n",
              "  <tbody>\n",
              "    <tr>\n",
              "      <th>0</th>\n",
              "      <td>Dallas</td>\n",
              "      <td>65598</td>\n",
              "      <td>before</td>\n",
              "    </tr>\n",
              "    <tr>\n",
              "      <th>1</th>\n",
              "      <td>Tarrant</td>\n",
              "      <td>34249</td>\n",
              "      <td>before</td>\n",
              "    </tr>\n",
              "    <tr>\n",
              "      <th>2</th>\n",
              "      <td>Harris</td>\n",
              "      <td>120489</td>\n",
              "      <td>before</td>\n",
              "    </tr>\n",
              "    <tr>\n",
              "      <th>3</th>\n",
              "      <td>Bexar</td>\n",
              "      <td>27161</td>\n",
              "      <td>before</td>\n",
              "    </tr>\n",
              "    <tr>\n",
              "      <th>4</th>\n",
              "      <td>Travis</td>\n",
              "      <td>29943</td>\n",
              "      <td>before</td>\n",
              "    </tr>\n",
              "    <tr>\n",
              "      <th>5</th>\n",
              "      <td>Dallas</td>\n",
              "      <td>108132145</td>\n",
              "      <td>after</td>\n",
              "    </tr>\n",
              "    <tr>\n",
              "      <th>6</th>\n",
              "      <td>Tarrant</td>\n",
              "      <td>89615363</td>\n",
              "      <td>after</td>\n",
              "    </tr>\n",
              "    <tr>\n",
              "      <th>7</th>\n",
              "      <td>Harris</td>\n",
              "      <td>145700552</td>\n",
              "      <td>after</td>\n",
              "    </tr>\n",
              "    <tr>\n",
              "      <th>8</th>\n",
              "      <td>Bexar</td>\n",
              "      <td>77870366</td>\n",
              "      <td>after</td>\n",
              "    </tr>\n",
              "    <tr>\n",
              "      <th>9</th>\n",
              "      <td>Travis</td>\n",
              "      <td>30959589</td>\n",
              "      <td>after</td>\n",
              "    </tr>\n",
              "  </tbody>\n",
              "</table>\n",
              "</div>"
            ],
            "text/plain": [
              "    County        Sum Threshold\n",
              "0   Dallas      65598    before\n",
              "1  Tarrant      34249    before\n",
              "2   Harris     120489    before\n",
              "3    Bexar      27161    before\n",
              "4   Travis      29943    before\n",
              "5   Dallas  108132145     after\n",
              "6  Tarrant   89615363     after\n",
              "7   Harris  145700552     after\n",
              "8    Bexar   77870366     after\n",
              "9   Travis   30959589     after"
            ]
          },
          "metadata": {},
          "execution_count": 11
        }
      ]
    },
    {
      "cell_type": "code",
      "metadata": {
        "id": "i05bP6sGMgqz",
        "outputId": "62b87bf9-e0c1-48a1-8ea3-7edc6d3f7cff",
        "colab": {
          "base_uri": "https://localhost:8080/",
          "height": 308
        }
      },
      "source": [
        "sns.barplot(x = 'County', y = 'Sum', hue = 'Threshold', data = df_barplot)"
      ],
      "execution_count": 13,
      "outputs": [
        {
          "output_type": "execute_result",
          "data": {
            "text/plain": [
              "<matplotlib.axes._subplots.AxesSubplot at 0x7f24d95f0810>"
            ]
          },
          "metadata": {},
          "execution_count": 13
        },
        {
          "output_type": "display_data",
          "data": {
            "image/png": "[encoded data removed]",
            "text/plain": [
              "<Figure size 432x288 with 1 Axes>"
            ]
          },
          "metadata": {
            "needs_background": "light"
          }
        }
      ]
    }
  ]
}